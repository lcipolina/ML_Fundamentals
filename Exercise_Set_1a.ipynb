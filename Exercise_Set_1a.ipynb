{
  "nbformat": 4,
  "nbformat_minor": 0,
  "metadata": {
    "colab": {
      "name": "Copy of Exercise_Set_1a.ipynb",
      "provenance": [],
      "include_colab_link": true
    },
    "kernelspec": {
      "name": "python3",
      "display_name": "Python 3"
    },
    "language_info": {
      "name": "python"
    }
  },
  "cells": [
    {
      "cell_type": "markdown",
      "metadata": {
        "id": "view-in-github",
        "colab_type": "text"
      },
      "source": [
        "<a href=\"https://colab.research.google.com/github/lcipolina/ML_Fundamentals/blob/main/Exercise_Set_1a.ipynb\" target=\"_parent\"><img src=\"https://colab.research.google.com/assets/colab-badge.svg\" alt=\"Open In Colab\"/></a>"
      ]
    },
    {
      "cell_type": "markdown",
      "metadata": {
        "id": "dY-eYHKi__Ph"
      },
      "source": [
        "# Exercise Set 1a - Python Arrays & DataFrames"
      ]
    },
    {
      "cell_type": "markdown",
      "metadata": {
        "id": "Mox-rsA2AMcz"
      },
      "source": [
        "Importing required libraries"
      ]
    },
    {
      "cell_type": "code",
      "metadata": {
        "id": "AeBiJyRdAEq-"
      },
      "source": [
        "import numpy as np\n",
        "import pandas as pd\n",
        "import seaborn as sns"
      ],
      "execution_count": 1,
      "outputs": []
    },
    {
      "cell_type": "markdown",
      "metadata": {
        "id": "BBBi75RGAWHS"
      },
      "source": [
        "Create a Numpy array with 1 column and 100 rows. Fill this with some data of random numbers.\n",
        "\n",
        "You may utilize the random number functions np.random.randn() or np.random.randint() to generate random numbers."
      ]
    },
    {
      "cell_type": "code",
      "metadata": {
        "colab": {
          "base_uri": "https://localhost:8080/"
        },
        "id": "dJV1tptqAR9A",
        "outputId": "b92a8175-11e8-42fb-c383-01f4e95e758e"
      },
      "source": [
        "rand_int = np.random.randint(1,10,(100,1)) # random numpy array of shape (100,1) with rnd integers between (1,10)\n",
        "print(rand_int)"
      ],
      "execution_count": 2,
      "outputs": [
        {
          "output_type": "stream",
          "name": "stdout",
          "text": [
            "[[3]\n",
            " [8]\n",
            " [3]\n",
            " [4]\n",
            " [5]\n",
            " [1]\n",
            " [1]\n",
            " [7]\n",
            " [3]\n",
            " [6]\n",
            " [4]\n",
            " [8]\n",
            " [2]\n",
            " [7]\n",
            " [5]\n",
            " [3]\n",
            " [3]\n",
            " [8]\n",
            " [3]\n",
            " [4]\n",
            " [9]\n",
            " [3]\n",
            " [3]\n",
            " [3]\n",
            " [9]\n",
            " [5]\n",
            " [9]\n",
            " [7]\n",
            " [8]\n",
            " [3]\n",
            " [9]\n",
            " [3]\n",
            " [8]\n",
            " [9]\n",
            " [7]\n",
            " [1]\n",
            " [5]\n",
            " [2]\n",
            " [9]\n",
            " [3]\n",
            " [6]\n",
            " [4]\n",
            " [6]\n",
            " [5]\n",
            " [2]\n",
            " [5]\n",
            " [9]\n",
            " [1]\n",
            " [5]\n",
            " [1]\n",
            " [1]\n",
            " [2]\n",
            " [2]\n",
            " [1]\n",
            " [2]\n",
            " [3]\n",
            " [5]\n",
            " [1]\n",
            " [4]\n",
            " [1]\n",
            " [8]\n",
            " [9]\n",
            " [1]\n",
            " [2]\n",
            " [7]\n",
            " [8]\n",
            " [3]\n",
            " [9]\n",
            " [2]\n",
            " [8]\n",
            " [7]\n",
            " [1]\n",
            " [9]\n",
            " [5]\n",
            " [5]\n",
            " [5]\n",
            " [1]\n",
            " [8]\n",
            " [6]\n",
            " [8]\n",
            " [8]\n",
            " [3]\n",
            " [6]\n",
            " [3]\n",
            " [6]\n",
            " [5]\n",
            " [5]\n",
            " [5]\n",
            " [5]\n",
            " [2]\n",
            " [2]\n",
            " [4]\n",
            " [1]\n",
            " [4]\n",
            " [5]\n",
            " [6]\n",
            " [8]\n",
            " [8]\n",
            " [9]\n",
            " [1]]\n"
          ]
        }
      ]
    },
    {
      "cell_type": "markdown",
      "metadata": {
        "id": "xVVSzmR8CxTB"
      },
      "source": [
        "Convert numpy array into pandas data series"
      ]
    },
    {
      "cell_type": "code",
      "metadata": {
        "colab": {
          "base_uri": "https://localhost:8080/",
          "height": 424
        },
        "id": "RdV4bjasCSKl",
        "outputId": "cf4968b5-b5a3-4ea4-a7b4-647b4106e085"
      },
      "source": [
        "df = pd.DataFrame(rand_int, columns=['Column1'])\n",
        "df"
      ],
      "execution_count": 3,
      "outputs": [
        {
          "output_type": "execute_result",
          "data": {
            "text/html": [
              "<div>\n",
              "<style scoped>\n",
              "    .dataframe tbody tr th:only-of-type {\n",
              "        vertical-align: middle;\n",
              "    }\n",
              "\n",
              "    .dataframe tbody tr th {\n",
              "        vertical-align: top;\n",
              "    }\n",
              "\n",
              "    .dataframe thead th {\n",
              "        text-align: right;\n",
              "    }\n",
              "</style>\n",
              "<table border=\"1\" class=\"dataframe\">\n",
              "  <thead>\n",
              "    <tr style=\"text-align: right;\">\n",
              "      <th></th>\n",
              "      <th>Column1</th>\n",
              "    </tr>\n",
              "  </thead>\n",
              "  <tbody>\n",
              "    <tr>\n",
              "      <th>0</th>\n",
              "      <td>3</td>\n",
              "    </tr>\n",
              "    <tr>\n",
              "      <th>1</th>\n",
              "      <td>8</td>\n",
              "    </tr>\n",
              "    <tr>\n",
              "      <th>2</th>\n",
              "      <td>3</td>\n",
              "    </tr>\n",
              "    <tr>\n",
              "      <th>3</th>\n",
              "      <td>4</td>\n",
              "    </tr>\n",
              "    <tr>\n",
              "      <th>4</th>\n",
              "      <td>5</td>\n",
              "    </tr>\n",
              "    <tr>\n",
              "      <th>...</th>\n",
              "      <td>...</td>\n",
              "    </tr>\n",
              "    <tr>\n",
              "      <th>95</th>\n",
              "      <td>6</td>\n",
              "    </tr>\n",
              "    <tr>\n",
              "      <th>96</th>\n",
              "      <td>8</td>\n",
              "    </tr>\n",
              "    <tr>\n",
              "      <th>97</th>\n",
              "      <td>8</td>\n",
              "    </tr>\n",
              "    <tr>\n",
              "      <th>98</th>\n",
              "      <td>9</td>\n",
              "    </tr>\n",
              "    <tr>\n",
              "      <th>99</th>\n",
              "      <td>1</td>\n",
              "    </tr>\n",
              "  </tbody>\n",
              "</table>\n",
              "<p>100 rows × 1 columns</p>\n",
              "</div>"
            ],
            "text/plain": [
              "    Column1\n",
              "0         3\n",
              "1         8\n",
              "2         3\n",
              "3         4\n",
              "4         5\n",
              "..      ...\n",
              "95        6\n",
              "96        8\n",
              "97        8\n",
              "98        9\n",
              "99        1\n",
              "\n",
              "[100 rows x 1 columns]"
            ]
          },
          "metadata": {},
          "execution_count": 3
        }
      ]
    },
    {
      "cell_type": "markdown",
      "metadata": {
        "id": "wMRFZebvDXS2"
      },
      "source": [
        "Create a Numpy array with 3 columns and 100 rows. \n",
        "Fill this with some data of random numbers."
      ]
    },
    {
      "cell_type": "code",
      "metadata": {
        "colab": {
          "base_uri": "https://localhost:8080/"
        },
        "id": "Ovbch1X2DVA6",
        "outputId": "a98e7b37-2306-4937-e113-f92275149fa2"
      },
      "source": [
        "rand_int = np.random.randint(1,10,(100,3)) # random numpy array of shape (100,3) with rnd integers between (1,10)\n",
        "print(rand_int)"
      ],
      "execution_count": 4,
      "outputs": [
        {
          "output_type": "stream",
          "name": "stdout",
          "text": [
            "[[5 3 2]\n",
            " [2 8 8]\n",
            " [7 6 6]\n",
            " [9 4 7]\n",
            " [2 6 2]\n",
            " [9 7 3]\n",
            " [6 8 9]\n",
            " [8 4 3]\n",
            " [2 2 8]\n",
            " [7 6 4]\n",
            " [2 5 6]\n",
            " [1 2 7]\n",
            " [4 2 8]\n",
            " [1 7 6]\n",
            " [8 2 8]\n",
            " [1 3 4]\n",
            " [4 9 3]\n",
            " [6 4 9]\n",
            " [7 1 6]\n",
            " [3 3 8]\n",
            " [6 2 9]\n",
            " [7 8 6]\n",
            " [7 1 6]\n",
            " [9 4 7]\n",
            " [5 4 9]\n",
            " [1 1 4]\n",
            " [1 6 8]\n",
            " [1 8 2]\n",
            " [7 1 2]\n",
            " [8 9 5]\n",
            " [6 1 5]\n",
            " [3 6 4]\n",
            " [5 1 6]\n",
            " [6 5 7]\n",
            " [9 9 5]\n",
            " [1 1 7]\n",
            " [5 9 5]\n",
            " [4 7 7]\n",
            " [4 9 3]\n",
            " [4 9 2]\n",
            " [1 1 3]\n",
            " [8 7 1]\n",
            " [3 2 3]\n",
            " [4 5 1]\n",
            " [4 7 6]\n",
            " [9 7 3]\n",
            " [2 8 9]\n",
            " [5 4 5]\n",
            " [9 5 5]\n",
            " [8 5 3]\n",
            " [8 6 5]\n",
            " [9 9 2]\n",
            " [5 7 8]\n",
            " [3 3 8]\n",
            " [9 1 7]\n",
            " [7 4 5]\n",
            " [2 2 3]\n",
            " [5 8 2]\n",
            " [2 9 6]\n",
            " [9 5 9]\n",
            " [8 9 7]\n",
            " [8 9 9]\n",
            " [2 4 7]\n",
            " [8 8 2]\n",
            " [2 6 3]\n",
            " [8 7 1]\n",
            " [2 3 9]\n",
            " [6 4 4]\n",
            " [3 5 6]\n",
            " [9 1 3]\n",
            " [6 6 1]\n",
            " [3 9 1]\n",
            " [5 7 9]\n",
            " [2 5 3]\n",
            " [6 9 8]\n",
            " [4 3 2]\n",
            " [3 8 1]\n",
            " [7 2 8]\n",
            " [6 2 9]\n",
            " [3 2 7]\n",
            " [8 7 3]\n",
            " [7 5 1]\n",
            " [4 7 7]\n",
            " [2 6 7]\n",
            " [7 2 7]\n",
            " [4 7 7]\n",
            " [6 8 7]\n",
            " [3 6 5]\n",
            " [5 2 8]\n",
            " [2 7 6]\n",
            " [9 2 8]\n",
            " [8 9 9]\n",
            " [9 9 2]\n",
            " [7 4 5]\n",
            " [2 1 6]\n",
            " [9 9 7]\n",
            " [5 5 2]\n",
            " [6 5 2]\n",
            " [9 3 7]\n",
            " [7 9 5]]\n"
          ]
        }
      ]
    },
    {
      "cell_type": "markdown",
      "metadata": {
        "id": "yLxkK9bHDsbi"
      },
      "source": [
        "Convert the above array into a pandas DataFrame. \n",
        "\n",
        "Note that a DataFrame has labels for each column. Choose some appropriate labels, such as X1, X2, X3."
      ]
    },
    {
      "cell_type": "code",
      "metadata": {
        "id": "g3Pu0rcxDJjW",
        "outputId": "a4d681dc-8fb9-4b78-d068-7b32481e96b0",
        "colab": {
          "base_uri": "https://localhost:8080/",
          "height": 424
        }
      },
      "source": [
        "df = pd.DataFrame(rand_int, columns=['X1','X2','X3'])\n",
        "df"
      ],
      "execution_count": 5,
      "outputs": [
        {
          "output_type": "execute_result",
          "data": {
            "text/html": [
              "<div>\n",
              "<style scoped>\n",
              "    .dataframe tbody tr th:only-of-type {\n",
              "        vertical-align: middle;\n",
              "    }\n",
              "\n",
              "    .dataframe tbody tr th {\n",
              "        vertical-align: top;\n",
              "    }\n",
              "\n",
              "    .dataframe thead th {\n",
              "        text-align: right;\n",
              "    }\n",
              "</style>\n",
              "<table border=\"1\" class=\"dataframe\">\n",
              "  <thead>\n",
              "    <tr style=\"text-align: right;\">\n",
              "      <th></th>\n",
              "      <th>X1</th>\n",
              "      <th>X2</th>\n",
              "      <th>X3</th>\n",
              "    </tr>\n",
              "  </thead>\n",
              "  <tbody>\n",
              "    <tr>\n",
              "      <th>0</th>\n",
              "      <td>5</td>\n",
              "      <td>3</td>\n",
              "      <td>2</td>\n",
              "    </tr>\n",
              "    <tr>\n",
              "      <th>1</th>\n",
              "      <td>2</td>\n",
              "      <td>8</td>\n",
              "      <td>8</td>\n",
              "    </tr>\n",
              "    <tr>\n",
              "      <th>2</th>\n",
              "      <td>7</td>\n",
              "      <td>6</td>\n",
              "      <td>6</td>\n",
              "    </tr>\n",
              "    <tr>\n",
              "      <th>3</th>\n",
              "      <td>9</td>\n",
              "      <td>4</td>\n",
              "      <td>7</td>\n",
              "    </tr>\n",
              "    <tr>\n",
              "      <th>4</th>\n",
              "      <td>2</td>\n",
              "      <td>6</td>\n",
              "      <td>2</td>\n",
              "    </tr>\n",
              "    <tr>\n",
              "      <th>...</th>\n",
              "      <td>...</td>\n",
              "      <td>...</td>\n",
              "      <td>...</td>\n",
              "    </tr>\n",
              "    <tr>\n",
              "      <th>95</th>\n",
              "      <td>9</td>\n",
              "      <td>9</td>\n",
              "      <td>7</td>\n",
              "    </tr>\n",
              "    <tr>\n",
              "      <th>96</th>\n",
              "      <td>5</td>\n",
              "      <td>5</td>\n",
              "      <td>2</td>\n",
              "    </tr>\n",
              "    <tr>\n",
              "      <th>97</th>\n",
              "      <td>6</td>\n",
              "      <td>5</td>\n",
              "      <td>2</td>\n",
              "    </tr>\n",
              "    <tr>\n",
              "      <th>98</th>\n",
              "      <td>9</td>\n",
              "      <td>3</td>\n",
              "      <td>7</td>\n",
              "    </tr>\n",
              "    <tr>\n",
              "      <th>99</th>\n",
              "      <td>7</td>\n",
              "      <td>9</td>\n",
              "      <td>5</td>\n",
              "    </tr>\n",
              "  </tbody>\n",
              "</table>\n",
              "<p>100 rows × 3 columns</p>\n",
              "</div>"
            ],
            "text/plain": [
              "    X1  X2  X3\n",
              "0    5   3   2\n",
              "1    2   8   8\n",
              "2    7   6   6\n",
              "3    9   4   7\n",
              "4    2   6   2\n",
              "..  ..  ..  ..\n",
              "95   9   9   7\n",
              "96   5   5   2\n",
              "97   6   5   2\n",
              "98   9   3   7\n",
              "99   7   9   5\n",
              "\n",
              "[100 rows x 3 columns]"
            ]
          },
          "metadata": {},
          "execution_count": 5
        }
      ]
    },
    {
      "cell_type": "markdown",
      "metadata": {
        "id": "gu6cacLJECOu"
      },
      "source": [
        "Use the above generated DataFrame to do a pairplot.\n",
        "\n",
        "Utilize the Seaborn function\n",
        "sns.pairplot()"
      ]
    },
    {
      "cell_type": "code",
      "metadata": {
        "colab": {
          "base_uri": "https://localhost:8080/",
          "height": 550
        },
        "id": "veRQAjs6D3Lu",
        "outputId": "b95e90bb-074d-47e9-bd68-e1347455e5ab"
      },
      "source": [
        "import seaborn as sns\n",
        "g = sns.pairplot(df)\n",
        "\n",
        "\n",
        "import matplotlib.pyplot as plt\n",
        "plt.show()"
      ],
      "execution_count": 6,
      "outputs": [
        {
          "output_type": "display_data",
          "data": {
            "image/png": "[encoded data removed]",
            "text/plain": [
              "<Figure size 540x540 with 12 Axes>"
            ]
          },
          "metadata": {
            "needs_background": "light"
          }
        }
      ]
    },
    {
      "cell_type": "markdown",
      "metadata": {
        "id": "j9wI53UyHceb"
      },
      "source": [
        "\n",
        "### Report\n",
        "\n",
        "* We have generated a matrix of random uncorrelated numbers. \n",
        "\n",
        "* We then plotted the numbers using the \"pairplot()\" function from the seaborn package. \n",
        "\n",
        "\n",
        "  This function generates a pair-wise plot with one variable on the X axis against the other variable plotted on the Y axis.\n",
        "\n",
        "  This is a quick way to study the correlation of both variables. Say they are both similar, we would expect to obtain all the dots aligned over the 45 degree line X=Y.\n",
        "\n",
        "  Here, because we have plotted random numbers, we see that the dots are all over the place, uniformly distributed across the plane.\n",
        "\n",
        "Note that on the diagonal we have a histogram of each of the variables.\n",
        "\n",
        "This is a quick way to get a feel of the separability of the behaviour of the data. "
      ]
    },
    {
      "cell_type": "code",
      "metadata": {
        "id": "EIZK6_C1Gxq8"
      },
      "source": [
        ""
      ],
      "execution_count": 6,
      "outputs": []
    }
  ]
}