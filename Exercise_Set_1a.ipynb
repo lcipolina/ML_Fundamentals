{
  "nbformat": 4,
  "nbformat_minor": 0,
  "metadata": {
    "colab": {
      "name": "Exercise_Set_1a.ipynb",
      "provenance": [],
      "authorship_tag": "ABX9TyN9MxVlz3jFDMI2tTnAMbKe",
      "include_colab_link": true
    },
    "kernelspec": {
      "name": "python3",
      "display_name": "Python 3"
    },
    "language_info": {
      "name": "python"
    }
  },
  "cells": [
    {
      "cell_type": "markdown",
      "metadata": {
        "id": "view-in-github",
        "colab_type": "text"
      },
      "source": [
        "<a href=\"https://colab.research.google.com/github/lcipolina/ML_Fundamentals/blob/main/Exercise_Set_1a.ipynb\" target=\"_parent\"><img src=\"https://colab.research.google.com/assets/colab-badge.svg\" alt=\"Open In Colab\"/></a>"
      ]
    },
    {
      "cell_type": "markdown",
      "metadata": {
        "id": "dY-eYHKi__Ph"
      },
      "source": [
        "# Exercise Set 1a - Python Arrays & DataFrames"
      ]
    },
    {
      "cell_type": "markdown",
      "metadata": {
        "id": "Mox-rsA2AMcz"
      },
      "source": [
        "Importing required libraries"
      ]
    },
    {
      "cell_type": "code",
      "metadata": {
        "id": "AeBiJyRdAEq-"
      },
      "source": [
        "import numpy as np\n",
        "import pandas as pd\n",
        "import seaborn as sns"
      ],
      "execution_count": 1,
      "outputs": []
    },
    {
      "cell_type": "markdown",
      "metadata": {
        "id": "BBBi75RGAWHS"
      },
      "source": [
        "Create a Numpy array with 1 column and 100 rows. Fill this with some data of random numbers.\n",
        "\n",
        "You may utilize the random number functions np.random.randn() or np.random.randint() to generate random numbers."
      ]
    },
    {
      "cell_type": "code",
      "metadata": {
        "colab": {
          "base_uri": "https://localhost:8080/"
        },
        "id": "dJV1tptqAR9A",
        "outputId": "9b1f72d0-a73f-410c-d895-2699bf7f3baa"
      },
      "source": [
        "rand_int = np.random.randint(1,10,(100,1)) # random numpy array of shape (100,1) with rnd integers between (1,10)\n",
        "print(rand_int)"
      ],
      "execution_count": 2,
      "outputs": [
        {
          "output_type": "stream",
          "name": "stdout",
          "text": [
            "[[7]\n",
            " [4]\n",
            " [7]\n",
            " [7]\n",
            " [5]\n",
            " [8]\n",
            " [3]\n",
            " [6]\n",
            " [7]\n",
            " [2]\n",
            " [5]\n",
            " [1]\n",
            " [2]\n",
            " [4]\n",
            " [3]\n",
            " [2]\n",
            " [5]\n",
            " [5]\n",
            " [5]\n",
            " [9]\n",
            " [9]\n",
            " [7]\n",
            " [9]\n",
            " [1]\n",
            " [7]\n",
            " [4]\n",
            " [4]\n",
            " [6]\n",
            " [3]\n",
            " [4]\n",
            " [6]\n",
            " [8]\n",
            " [5]\n",
            " [9]\n",
            " [2]\n",
            " [8]\n",
            " [7]\n",
            " [6]\n",
            " [7]\n",
            " [4]\n",
            " [4]\n",
            " [8]\n",
            " [5]\n",
            " [8]\n",
            " [5]\n",
            " [1]\n",
            " [7]\n",
            " [7]\n",
            " [9]\n",
            " [9]\n",
            " [9]\n",
            " [1]\n",
            " [6]\n",
            " [4]\n",
            " [7]\n",
            " [6]\n",
            " [4]\n",
            " [9]\n",
            " [8]\n",
            " [6]\n",
            " [2]\n",
            " [4]\n",
            " [9]\n",
            " [4]\n",
            " [1]\n",
            " [1]\n",
            " [2]\n",
            " [6]\n",
            " [4]\n",
            " [3]\n",
            " [4]\n",
            " [2]\n",
            " [9]\n",
            " [6]\n",
            " [2]\n",
            " [3]\n",
            " [8]\n",
            " [6]\n",
            " [8]\n",
            " [7]\n",
            " [9]\n",
            " [7]\n",
            " [1]\n",
            " [3]\n",
            " [7]\n",
            " [9]\n",
            " [9]\n",
            " [9]\n",
            " [6]\n",
            " [4]\n",
            " [2]\n",
            " [6]\n",
            " [5]\n",
            " [7]\n",
            " [9]\n",
            " [5]\n",
            " [5]\n",
            " [5]\n",
            " [5]\n",
            " [3]]\n"
          ]
        }
      ]
    },
    {
      "cell_type": "markdown",
      "metadata": {
        "id": "xVVSzmR8CxTB"
      },
      "source": [
        "Convert numpy array into pandas data series"
      ]
    },
    {
      "cell_type": "code",
      "metadata": {
        "colab": {
          "base_uri": "https://localhost:8080/",
          "height": 424
        },
        "id": "RdV4bjasCSKl",
        "outputId": "d9c57b3d-6bea-41f0-cc04-5dfacbc15f18"
      },
      "source": [
        "df = pd.DataFrame(rand_int, columns=['Column1'])\n",
        "df"
      ],
      "execution_count": 3,
      "outputs": [
        {
          "output_type": "execute_result",
          "data": {
            "text/html": [
              "<div>\n",
              "<style scoped>\n",
              "    .dataframe tbody tr th:only-of-type {\n",
              "        vertical-align: middle;\n",
              "    }\n",
              "\n",
              "    .dataframe tbody tr th {\n",
              "        vertical-align: top;\n",
              "    }\n",
              "\n",
              "    .dataframe thead th {\n",
              "        text-align: right;\n",
              "    }\n",
              "</style>\n",
              "<table border=\"1\" class=\"dataframe\">\n",
              "  <thead>\n",
              "    <tr style=\"text-align: right;\">\n",
              "      <th></th>\n",
              "      <th>Column1</th>\n",
              "    </tr>\n",
              "  </thead>\n",
              "  <tbody>\n",
              "    <tr>\n",
              "      <th>0</th>\n",
              "      <td>7</td>\n",
              "    </tr>\n",
              "    <tr>\n",
              "      <th>1</th>\n",
              "      <td>4</td>\n",
              "    </tr>\n",
              "    <tr>\n",
              "      <th>2</th>\n",
              "      <td>7</td>\n",
              "    </tr>\n",
              "    <tr>\n",
              "      <th>3</th>\n",
              "      <td>7</td>\n",
              "    </tr>\n",
              "    <tr>\n",
              "      <th>4</th>\n",
              "      <td>5</td>\n",
              "    </tr>\n",
              "    <tr>\n",
              "      <th>...</th>\n",
              "      <td>...</td>\n",
              "    </tr>\n",
              "    <tr>\n",
              "      <th>95</th>\n",
              "      <td>5</td>\n",
              "    </tr>\n",
              "    <tr>\n",
              "      <th>96</th>\n",
              "      <td>5</td>\n",
              "    </tr>\n",
              "    <tr>\n",
              "      <th>97</th>\n",
              "      <td>5</td>\n",
              "    </tr>\n",
              "    <tr>\n",
              "      <th>98</th>\n",
              "      <td>5</td>\n",
              "    </tr>\n",
              "    <tr>\n",
              "      <th>99</th>\n",
              "      <td>3</td>\n",
              "    </tr>\n",
              "  </tbody>\n",
              "</table>\n",
              "<p>100 rows × 1 columns</p>\n",
              "</div>"
            ],
            "text/plain": [
              "    Column1\n",
              "0         7\n",
              "1         4\n",
              "2         7\n",
              "3         7\n",
              "4         5\n",
              "..      ...\n",
              "95        5\n",
              "96        5\n",
              "97        5\n",
              "98        5\n",
              "99        3\n",
              "\n",
              "[100 rows x 1 columns]"
            ]
          },
          "metadata": {},
          "execution_count": 3
        }
      ]
    },
    {
      "cell_type": "markdown",
      "metadata": {
        "id": "wMRFZebvDXS2"
      },
      "source": [
        "Create a Numpy array with 3 columns and 100 rows. \n",
        "Fill this with some data of random numbers."
      ]
    },
    {
      "cell_type": "code",
      "metadata": {
        "colab": {
          "base_uri": "https://localhost:8080/"
        },
        "id": "Ovbch1X2DVA6",
        "outputId": "98fe739c-c36b-4b9a-9dee-a114bd9cbe9e"
      },
      "source": [
        "rand_int = np.random.randint(1,10,(100,3)) # random numpy array of shape (100,3) with rnd integers between (1,10)\n",
        "print(rand_int)"
      ],
      "execution_count": 4,
      "outputs": [
        {
          "output_type": "stream",
          "name": "stdout",
          "text": [
            "[[3 4 2]\n",
            " [6 8 9]\n",
            " [8 7 8]\n",
            " [5 4 8]\n",
            " [6 9 5]\n",
            " [3 8 6]\n",
            " [1 4 9]\n",
            " [8 2 1]\n",
            " [4 5 3]\n",
            " [2 1 9]\n",
            " [6 6 1]\n",
            " [5 2 9]\n",
            " [3 5 6]\n",
            " [4 7 7]\n",
            " [2 4 5]\n",
            " [4 2 9]\n",
            " [1 6 9]\n",
            " [1 4 9]\n",
            " [9 6 3]\n",
            " [3 9 9]\n",
            " [6 5 5]\n",
            " [4 7 1]\n",
            " [5 1 2]\n",
            " [8 3 9]\n",
            " [4 5 3]\n",
            " [6 8 9]\n",
            " [1 4 3]\n",
            " [3 3 9]\n",
            " [9 5 6]\n",
            " [2 6 4]\n",
            " [6 4 5]\n",
            " [3 5 8]\n",
            " [6 4 9]\n",
            " [3 6 4]\n",
            " [3 8 5]\n",
            " [1 9 5]\n",
            " [5 1 2]\n",
            " [1 3 2]\n",
            " [1 2 6]\n",
            " [6 9 1]\n",
            " [8 2 8]\n",
            " [8 3 9]\n",
            " [9 1 5]\n",
            " [9 7 8]\n",
            " [2 1 8]\n",
            " [7 4 8]\n",
            " [8 2 3]\n",
            " [3 8 9]\n",
            " [9 7 4]\n",
            " [8 9 3]\n",
            " [3 4 9]\n",
            " [6 3 8]\n",
            " [5 1 2]\n",
            " [4 1 9]\n",
            " [8 7 5]\n",
            " [7 1 7]\n",
            " [7 6 1]\n",
            " [3 3 1]\n",
            " [9 3 7]\n",
            " [7 5 4]\n",
            " [3 3 1]\n",
            " [5 6 9]\n",
            " [1 9 8]\n",
            " [3 9 1]\n",
            " [2 5 8]\n",
            " [1 8 2]\n",
            " [4 3 9]\n",
            " [7 1 4]\n",
            " [9 3 6]\n",
            " [8 3 1]\n",
            " [1 1 7]\n",
            " [1 6 2]\n",
            " [1 6 5]\n",
            " [6 9 2]\n",
            " [2 2 4]\n",
            " [7 1 7]\n",
            " [5 7 2]\n",
            " [2 4 5]\n",
            " [6 1 8]\n",
            " [5 4 2]\n",
            " [4 6 5]\n",
            " [2 1 6]\n",
            " [5 8 7]\n",
            " [9 5 6]\n",
            " [9 3 4]\n",
            " [9 1 1]\n",
            " [4 6 4]\n",
            " [7 2 2]\n",
            " [4 9 1]\n",
            " [2 3 2]\n",
            " [8 3 7]\n",
            " [8 8 3]\n",
            " [3 9 7]\n",
            " [3 3 5]\n",
            " [2 4 3]\n",
            " [4 3 2]\n",
            " [9 2 7]\n",
            " [1 8 3]\n",
            " [2 2 7]\n",
            " [1 3 4]]\n"
          ]
        }
      ]
    },
    {
      "cell_type": "markdown",
      "metadata": {
        "id": "yLxkK9bHDsbi"
      },
      "source": [
        "Convert the above array into a pandas DataFrame. \n",
        "\n",
        "Note that a DataFrame has labels for each column. Choose some appropriate labels, such as X1, X2, X3."
      ]
    },
    {
      "cell_type": "code",
      "metadata": {
        "colab": {
          "base_uri": "https://localhost:8080/",
          "height": 424
        },
        "id": "g3Pu0rcxDJjW",
        "outputId": "c49c9eb7-0949-4a40-be0b-3a8fd1a6e7e8"
      },
      "source": [
        "df = pd.DataFrame(rand_int, columns=['X1','X2','X3'])\n",
        "df"
      ],
      "execution_count": 5,
      "outputs": [
        {
          "output_type": "execute_result",
          "data": {
            "text/html": [
              "<div>\n",
              "<style scoped>\n",
              "    .dataframe tbody tr th:only-of-type {\n",
              "        vertical-align: middle;\n",
              "    }\n",
              "\n",
              "    .dataframe tbody tr th {\n",
              "        vertical-align: top;\n",
              "    }\n",
              "\n",
              "    .dataframe thead th {\n",
              "        text-align: right;\n",
              "    }\n",
              "</style>\n",
              "<table border=\"1\" class=\"dataframe\">\n",
              "  <thead>\n",
              "    <tr style=\"text-align: right;\">\n",
              "      <th></th>\n",
              "      <th>X1</th>\n",
              "      <th>X2</th>\n",
              "      <th>X3</th>\n",
              "    </tr>\n",
              "  </thead>\n",
              "  <tbody>\n",
              "    <tr>\n",
              "      <th>0</th>\n",
              "      <td>3</td>\n",
              "      <td>4</td>\n",
              "      <td>2</td>\n",
              "    </tr>\n",
              "    <tr>\n",
              "      <th>1</th>\n",
              "      <td>6</td>\n",
              "      <td>8</td>\n",
              "      <td>9</td>\n",
              "    </tr>\n",
              "    <tr>\n",
              "      <th>2</th>\n",
              "      <td>8</td>\n",
              "      <td>7</td>\n",
              "      <td>8</td>\n",
              "    </tr>\n",
              "    <tr>\n",
              "      <th>3</th>\n",
              "      <td>5</td>\n",
              "      <td>4</td>\n",
              "      <td>8</td>\n",
              "    </tr>\n",
              "    <tr>\n",
              "      <th>4</th>\n",
              "      <td>6</td>\n",
              "      <td>9</td>\n",
              "      <td>5</td>\n",
              "    </tr>\n",
              "    <tr>\n",
              "      <th>...</th>\n",
              "      <td>...</td>\n",
              "      <td>...</td>\n",
              "      <td>...</td>\n",
              "    </tr>\n",
              "    <tr>\n",
              "      <th>95</th>\n",
              "      <td>4</td>\n",
              "      <td>3</td>\n",
              "      <td>2</td>\n",
              "    </tr>\n",
              "    <tr>\n",
              "      <th>96</th>\n",
              "      <td>9</td>\n",
              "      <td>2</td>\n",
              "      <td>7</td>\n",
              "    </tr>\n",
              "    <tr>\n",
              "      <th>97</th>\n",
              "      <td>1</td>\n",
              "      <td>8</td>\n",
              "      <td>3</td>\n",
              "    </tr>\n",
              "    <tr>\n",
              "      <th>98</th>\n",
              "      <td>2</td>\n",
              "      <td>2</td>\n",
              "      <td>7</td>\n",
              "    </tr>\n",
              "    <tr>\n",
              "      <th>99</th>\n",
              "      <td>1</td>\n",
              "      <td>3</td>\n",
              "      <td>4</td>\n",
              "    </tr>\n",
              "  </tbody>\n",
              "</table>\n",
              "<p>100 rows × 3 columns</p>\n",
              "</div>"
            ],
            "text/plain": [
              "    X1  X2  X3\n",
              "0    3   4   2\n",
              "1    6   8   9\n",
              "2    8   7   8\n",
              "3    5   4   8\n",
              "4    6   9   5\n",
              "..  ..  ..  ..\n",
              "95   4   3   2\n",
              "96   9   2   7\n",
              "97   1   8   3\n",
              "98   2   2   7\n",
              "99   1   3   4\n",
              "\n",
              "[100 rows x 3 columns]"
            ]
          },
          "metadata": {},
          "execution_count": 5
        }
      ]
    },
    {
      "cell_type": "markdown",
      "metadata": {
        "id": "gu6cacLJECOu"
      },
      "source": [
        "Use the above generated DataFrame to do a pairplot.\n",
        "\n",
        "Utilize the Seaborn function\n",
        "sns.pairplot()"
      ]
    },
    {
      "cell_type": "code",
      "metadata": {
        "colab": {
          "base_uri": "https://localhost:8080/",
          "height": 550
        },
        "id": "veRQAjs6D3Lu",
        "outputId": "7e0f808e-9c7e-4e97-a309-7068a23359a8"
      },
      "source": [
        "import seaborn as sns\n",
        "g = sns.pairplot(df)\n",
        "\n",
        "import matplotlib.pyplot as plt\n",
        "plt.show()"
      ],
      "execution_count": 6,
      "outputs": [
        {
          "output_type": "display_data",
          "data": {
            "image/png": "[encoded data removed]",
            "text/plain": [
              "<Figure size 540x540 with 12 Axes>"
            ]
          },
          "metadata": {
            "needs_background": "light"
          }
        }
      ]
    },
    {
      "cell_type": "markdown",
      "metadata": {
        "id": "Tk2eQ7oUb8uo"
      },
      "source": [
        "### Scatter Plots"
      ]
    },
    {
      "cell_type": "code",
      "metadata": {
        "id": "iE6HP4igb-wa",
        "outputId": "bce84178-7a4d-493b-c5d3-bb5d979f16fc",
        "colab": {
          "base_uri": "https://localhost:8080/",
          "height": 299
        }
      },
      "source": [
        "plt.scatter(df['X1'], df['X2'], c='purple')\n",
        "plt.title('Scatter Plot of Simulated Data X1 and X2')\n"
      ],
      "execution_count": 11,
      "outputs": [
        {
          "output_type": "execute_result",
          "data": {
            "text/plain": [
              "Text(0.5, 1.0, 'Scatter Plot of Simulated Data X1 and X2')"
            ]
          },
          "metadata": {},
          "execution_count": 11
        },
        {
          "output_type": "display_data",
          "data": {
            "image/png": "[encoded data removed]",
            "text/plain": [
              "<Figure size 432x288 with 1 Axes>"
            ]
          },
          "metadata": {
            "needs_background": "light"
          }
        }
      ]
    },
    {
      "cell_type": "code",
      "metadata": {
        "id": "TX7yVErRcWWy",
        "outputId": "1b15c566-481f-47f1-dd31-d0be847d6f37",
        "colab": {
          "base_uri": "https://localhost:8080/",
          "height": 299
        }
      },
      "source": [
        "plt.scatter(df['X2'], df['X3'], c='purple')\n",
        "plt.title('Scatter Plot of Simulated Data X2 and X3')"
      ],
      "execution_count": 12,
      "outputs": [
        {
          "output_type": "execute_result",
          "data": {
            "text/plain": [
              "Text(0.5, 1.0, 'Scatter Plot of Simulated Data X2 and X3')"
            ]
          },
          "metadata": {},
          "execution_count": 12
        },
        {
          "output_type": "display_data",
          "data": {
            "image/png": "[encoded data removed]",
            "text/plain": [
              "<Figure size 432x288 with 1 Axes>"
            ]
          },
          "metadata": {
            "needs_background": "light"
          }
        }
      ]
    },
    {
      "cell_type": "markdown",
      "metadata": {
        "id": "IBov9BTscc_J"
      },
      "source": [
        "### Hexbin Plots"
      ]
    },
    {
      "cell_type": "code",
      "metadata": {
        "id": "LPglJoxycgr3",
        "outputId": "cf0bdf38-1266-4328-cc0b-d8028995ccd4",
        "colab": {
          "base_uri": "https://localhost:8080/",
          "height": 299
        }
      },
      "source": [
        "plt.hexbin(df['X2'], df['X3'], cmap='Purples')\n",
        "plt.title('Hexbin Plot of Simulated Data X2 and X3')"
      ],
      "execution_count": 14,
      "outputs": [
        {
          "output_type": "execute_result",
          "data": {
            "text/plain": [
              "Text(0.5, 1.0, 'Hexbin Plot of Simulated Data X2 and X3')"
            ]
          },
          "metadata": {},
          "execution_count": 14
        },
        {
          "output_type": "display_data",
          "data": {
            "image/png": "[encoded data removed]",
            "text/plain": [
              "<Figure size 432x288 with 1 Axes>"
            ]
          },
          "metadata": {
            "needs_background": "light"
          }
        }
      ]
    },
    {
      "cell_type": "markdown",
      "metadata": {
        "id": "j9wI53UyHceb"
      },
      "source": [
        "\n",
        "### Conclusions\n",
        "\n",
        "* We have generated a matrix of random uncorrelated numbers. \n",
        "\n",
        "* We then plotted the numbers using the \"pairplot()\" function from the seaborn package. \n",
        "\n",
        "\n",
        "  This function generates a pair-wise plot with one variable on the X axis against the other variable plotted on the Y axis.\n",
        "\n",
        "  This is a quick way to study the correlation of both variables. Say they are both similar, we would expect to obtain all the dots aligned over the 45 degree line X=Y.\n",
        "\n",
        "  Here, because we have plotted random numbers, we see that the dots are all over the place, uniformly distributed across the plane.\n",
        "\n",
        "Note that on the diagonal we have a histogram of each of the variables.\n",
        "\n",
        "This is a quick way to get a feel of the separability of the behaviour of the data. "
      ]
    },
    {
      "cell_type": "code",
      "metadata": {
        "id": "EIZK6_C1Gxq8"
      },
      "source": [
        ""
      ],
      "execution_count": 6,
      "outputs": []
    }
  ]
}