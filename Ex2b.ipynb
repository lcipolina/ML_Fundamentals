{
  "nbformat": 4,
  "nbformat_minor": 0,
  "metadata": {
    "colab": {
      "name": "Ex2b.ipynb",
      "provenance": [],
      "authorship_tag": "ABX9TyOuA8jTi9GiCvlx3MgyXCWh",
      "include_colab_link": true
    },
    "kernelspec": {
      "name": "python3",
      "display_name": "Python 3"
    },
    "language_info": {
      "name": "python"
    }
  },
  "cells": [
    {
      "cell_type": "markdown",
      "metadata": {
        "id": "view-in-github",
        "colab_type": "text"
      },
      "source": [
        "<a href=\"https://colab.research.google.com/github/lcipolina/ML_Fundamentals/blob/main/Ex2b.ipynb\" target=\"_parent\"><img src=\"https://colab.research.google.com/assets/colab-badge.svg\" alt=\"Open In Colab\"/></a>"
      ]
    },
    {
      "cell_type": "markdown",
      "metadata": {
        "id": "tGKmVz5f8MZe"
      },
      "source": [
        "## Part 2"
      ]
    },
    {
      "cell_type": "markdown",
      "metadata": {
        "id": "1njXBZPc8PnE"
      },
      "source": [
        "Generate a data Frame with the given data\n"
      ]
    },
    {
      "cell_type": "code",
      "metadata": {
        "id": "5afWSWmH9Q9s"
      },
      "source": [
        "import numpy as np\n",
        "import pandas as pd\n",
        "import seaborn as sns\n",
        "import matplotlib.pyplot as plt\n",
        "from matplotlib import pyplot as plt\n",
        "from random import choices\n",
        "import scipy.stats"
      ],
      "execution_count": 16,
      "outputs": []
    },
    {
      "cell_type": "code",
      "metadata": {
        "colab": {
          "base_uri": "https://localhost:8080/",
          "height": 206
        },
        "id": "81Y-t1GK8HpW",
        "outputId": "ff5e18d0-534f-4bf4-c3b5-a6cd2dac1bae"
      },
      "source": [
        "# Data given\n",
        "sample = [22.7,\n",
        "       16.3,\n",
        "       13.6,\n",
        "       16.8,\n",
        "       29.9,\n",
        "       15.9,\n",
        "       14,15,\n",
        "       14.1,\n",
        "       18.1,\n",
        "       22.8,\n",
        "       27.6,\n",
        "       16.4,\n",
        "       16.1,\n",
        "       19,\n",
        "       13.5,\n",
        "       18.9,\n",
        "       20.2,\n",
        "       19.7,\n",
        "       18.2,\n",
        "       15.4,\n",
        "       15.7,\n",
        "       19,\n",
        "       11.5,\n",
        "       18.4,\n",
        "       16,\n",
        "       16.9,\n",
        "       12,\n",
        "       40.1,\n",
        "       19.2]\n",
        "\n",
        "# Create a DataFrame\n",
        "data = {'data':pd.Series(sample)}\n",
        "df = pd.DataFrame(data)\n",
        "df.head()"
      ],
      "execution_count": 17,
      "outputs": [
        {
          "output_type": "execute_result",
          "data": {
            "text/html": [
              "<div>\n",
              "<style scoped>\n",
              "    .dataframe tbody tr th:only-of-type {\n",
              "        vertical-align: middle;\n",
              "    }\n",
              "\n",
              "    .dataframe tbody tr th {\n",
              "        vertical-align: top;\n",
              "    }\n",
              "\n",
              "    .dataframe thead th {\n",
              "        text-align: right;\n",
              "    }\n",
              "</style>\n",
              "<table border=\"1\" class=\"dataframe\">\n",
              "  <thead>\n",
              "    <tr style=\"text-align: right;\">\n",
              "      <th></th>\n",
              "      <th>data</th>\n",
              "    </tr>\n",
              "  </thead>\n",
              "  <tbody>\n",
              "    <tr>\n",
              "      <th>0</th>\n",
              "      <td>22.7</td>\n",
              "    </tr>\n",
              "    <tr>\n",
              "      <th>1</th>\n",
              "      <td>16.3</td>\n",
              "    </tr>\n",
              "    <tr>\n",
              "      <th>2</th>\n",
              "      <td>13.6</td>\n",
              "    </tr>\n",
              "    <tr>\n",
              "      <th>3</th>\n",
              "      <td>16.8</td>\n",
              "    </tr>\n",
              "    <tr>\n",
              "      <th>4</th>\n",
              "      <td>29.9</td>\n",
              "    </tr>\n",
              "  </tbody>\n",
              "</table>\n",
              "</div>"
            ],
            "text/plain": [
              "   data\n",
              "0  22.7\n",
              "1  16.3\n",
              "2  13.6\n",
              "3  16.8\n",
              "4  29.9"
            ]
          },
          "metadata": {},
          "execution_count": 17
        }
      ]
    },
    {
      "cell_type": "markdown",
      "metadata": {
        "id": "mMM9T9yOCN0E"
      },
      "source": [
        "Calculate Mean and Variance"
      ]
    },
    {
      "cell_type": "code",
      "metadata": {
        "colab": {
          "base_uri": "https://localhost:8080/"
        },
        "id": "-hE8jSI5Bke9",
        "outputId": "651c52c9-8cb0-4dc6-ba45-a372d337214f"
      },
      "source": [
        "mean = df.mean(axis =0)\n",
        "stdev = df.std(axis=0)\n",
        "print('mean:', mean)\n",
        "print('std_dev:',stdev)"
      ],
      "execution_count": 18,
      "outputs": [
        {
          "output_type": "stream",
          "name": "stdout",
          "text": [
            "mean: data    18.433333\n",
            "dtype: float64\n",
            "std_dev: data    5.765853\n",
            "dtype: float64\n"
          ]
        }
      ]
    },
    {
      "cell_type": "markdown",
      "metadata": {
        "id": "_SiDn4NXDqvk"
      },
      "source": [
        "a) Plot a histogram of the given sample"
      ]
    },
    {
      "cell_type": "code",
      "metadata": {
        "colab": {
          "base_uri": "https://localhost:8080/",
          "height": 318
        },
        "id": "fKcGEGOyDJD6",
        "outputId": "e2890a08-80c5-487f-9381-5b7f20816812"
      },
      "source": [
        "df.hist()"
      ],
      "execution_count": 19,
      "outputs": [
        {
          "output_type": "execute_result",
          "data": {
            "text/plain": [
              "array([[<matplotlib.axes._subplots.AxesSubplot object at 0x7f81117a6f90>]],\n",
              "      dtype=object)"
            ]
          },
          "metadata": {},
          "execution_count": 19
        },
        {
          "output_type": "display_data",
          "data": {
            "image/png": "[encoded data removed]",
            "text/plain": [
              "<Figure size 432x288 with 1 Axes>"
            ]
          },
          "metadata": {
            "needs_background": "light"
          }
        }
      ]
    },
    {
      "cell_type": "markdown",
      "metadata": {
        "id": "5ZFXJGJtD4sH"
      },
      "source": [
        "b) Compute the mean of the data and a 95% confidence interval, assuming normal distribution."
      ]
    },
    {
      "cell_type": "code",
      "metadata": {
        "id": "6wcEwBOS1jrp"
      },
      "source": [
        "def mean_confidence_interval(data):\n",
        "    confidence=0.95\n",
        "    a = 1.0 * np.array(data)\n",
        "    m = np.mean(a)\n",
        "    se =  scipy.stats.sem(a)\n",
        "    h = se * scipy.stats.t.ppf((1 + confidence) / 2., len(a)-1)\n",
        "    return m, m-h, m+h"
      ],
      "execution_count": 20,
      "outputs": []
    },
    {
      "cell_type": "code",
      "metadata": {
        "colab": {
          "base_uri": "https://localhost:8080/"
        },
        "id": "OxFkEeYT1nqq",
        "outputId": "8e030503-48dd-4576-e64f-01dd03fd6da7"
      },
      "source": [
        "print(\"Mean , upper bound and lower bound-Confidence Interval : \",mean_confidence_interval(sample))"
      ],
      "execution_count": 21,
      "outputs": [
        {
          "output_type": "stream",
          "name": "stdout",
          "text": [
            "Mean , upper bound and lower bound-Confidence Interval :  (18.433333333333334, 16.28032854784563, 20.586338118821036)\n"
          ]
        }
      ]
    },
    {
      "cell_type": "markdown",
      "metadata": {
        "id": "xRNDOwV1G2hl"
      },
      "source": [
        "c) From the given observations, draw 1000 new samples, each of size 30. \n",
        "\n",
        "The samples are drawn uniformly, and with replacement. \n",
        "\n",
        "Compute the mean from each of the new samples.\n",
        "\n",
        " Call the mean x∗. Therefore, you have 1000 such means x∗1, x∗2 . . . x∗1000."
      ]
    },
    {
      "cell_type": "code",
      "metadata": {
        "id": "hrD1v1r8GfPD"
      },
      "source": [
        "#Create new samples\n",
        "sample_size= 30\n",
        "N = 1000\n",
        "\n",
        "draw_list = {}\n",
        "for index in range(N):\n",
        "  draw_list[index] = choices(sample, k=sample_size)\n",
        "\n",
        "#Compute the mean from each sample\n",
        "draw_list_mean = []\n",
        "for key, value in draw_list.items():\n",
        "  draw_list_mean.append(sum(value)/len(value))\n"
      ],
      "execution_count": 22,
      "outputs": []
    },
    {
      "cell_type": "markdown",
      "metadata": {
        "id": "hDoVWD1H20tW"
      },
      "source": [
        "d) Plot a histogram of the 1000 means computed in (c). What do you observe?"
      ]
    },
    {
      "cell_type": "code",
      "metadata": {
        "colab": {
          "base_uri": "https://localhost:8080/",
          "height": 265
        },
        "id": "VRoWihqr21hk",
        "outputId": "201a1d16-3afd-465e-989f-8310793a04d1"
      },
      "source": [
        "plt.hist(draw_list_mean, bins=10, color='green',ec='black')\n",
        "plt.show()"
      ],
      "execution_count": 23,
      "outputs": [
        {
          "output_type": "display_data",
          "data": {
            "image/png": "[encoded data removed]",
            "text/plain": [
              "<Figure size 432x288 with 1 Axes>"
            ]
          },
          "metadata": {
            "needs_background": "light"
          }
        }
      ]
    },
    {
      "cell_type": "markdown",
      "metadata": {
        "id": "S3X5EXJz3Iv8"
      },
      "source": [
        "Observation: \n",
        "\n",
        "* This new distribution is drawn from a continuous Normal distribution, therefore it presents values in all the domain. As opposed to the sample distribution which was a discrete distribution.\n",
        "\n",
        "* The density plot is closer to that of the normal distribution, which is what the Central Limi theorem states (The central limit theorem (CLT) states that the distribution of sample means approximates a normal distribution as the sample size gets larger)\n",
        "\n",
        "* As we are approximating a Normal distribution, these plot doesn't present the outliers to the right observed on the sample density plot."
      ]
    },
    {
      "cell_type": "markdown",
      "metadata": {
        "id": "qBka5Dkn39ab"
      },
      "source": [
        "e) Compute a 95% confidence interval from the bootstrap samples.\n"
      ]
    },
    {
      "cell_type": "code",
      "metadata": {
        "colab": {
          "base_uri": "https://localhost:8080/"
        },
        "id": "qB94C0CG25_W",
        "outputId": "590cbe11-1e09-4444-e886-d853b0a9d7ab"
      },
      "source": [
        "print(\"Mean , upper bound and lower bound-Confidence Interval : \",mean_confidence_interval(draw_list_mean))"
      ],
      "execution_count": 24,
      "outputs": [
        {
          "output_type": "stream",
          "name": "stdout",
          "text": [
            "Mean , upper bound and lower bound-Confidence Interval :  (18.424773333333334, 18.359624796923026, 18.489921869743643)\n"
          ]
        }
      ]
    },
    {
      "cell_type": "markdown",
      "metadata": {
        "id": "lE55vqHn4d4v"
      },
      "source": [
        "Observation:\n",
        "* When we compare this confidence interval against the data's confidence interval, we see that this CI is much narrower. This means, the values of the upper bound and the lower boud of the interval are much closer. This is explained by the fact that the data has less variance, as a consequence of the lack of outliers."
      ]
    },
    {
      "cell_type": "code",
      "metadata": {
        "id": "PttGi-B64kzA"
      },
      "source": [
        ""
      ],
      "execution_count": 24,
      "outputs": []
    }
  ]
}