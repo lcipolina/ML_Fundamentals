{
  "nbformat": 4,
  "nbformat_minor": 0,
  "metadata": {
    "colab": {
      "name": "Ex2b.ipynb",
      "provenance": [],
      "authorship_tag": "ABX9TyM5Tl92IrlSnqtjRWUjbkSq",
      "include_colab_link": true
    },
    "kernelspec": {
      "name": "python3",
      "display_name": "Python 3"
    },
    "language_info": {
      "name": "python"
    }
  },
  "cells": [
    {
      "cell_type": "markdown",
      "metadata": {
        "id": "view-in-github",
        "colab_type": "text"
      },
      "source": [
        "<a href=\"https://colab.research.google.com/github/lcipolina/ML_Fundamentals/blob/main/Ex2b.ipynb\" target=\"_parent\"><img src=\"https://colab.research.google.com/assets/colab-badge.svg\" alt=\"Open In Colab\"/></a>"
      ]
    },
    {
      "cell_type": "markdown",
      "metadata": {
        "id": "tGKmVz5f8MZe"
      },
      "source": [
        "## Part 2"
      ]
    },
    {
      "cell_type": "markdown",
      "metadata": {
        "id": "1njXBZPc8PnE"
      },
      "source": [
        "Generate a data Frame with the given data\n"
      ]
    },
    {
      "cell_type": "code",
      "metadata": {
        "id": "5afWSWmH9Q9s"
      },
      "source": [
        "import numpy as np\n",
        "import pandas as pd\n",
        "import seaborn as sns\n",
        "import matplotlib.pyplot as plt\n"
      ],
      "execution_count": 31,
      "outputs": []
    },
    {
      "cell_type": "code",
      "metadata": {
        "colab": {
          "base_uri": "https://localhost:8080/",
          "height": 206
        },
        "id": "81Y-t1GK8HpW",
        "outputId": "2794830b-1838-4efa-f8e0-7c04d81b5e21"
      },
      "source": [
        "\n",
        "lst = [22.7,\n",
        "       16.3,\n",
        "       13.6,\n",
        "       16.8,\n",
        "       29.9,\n",
        "       15.9,\n",
        "       14,15,\n",
        "       14.1,\n",
        "       18.1,\n",
        "       22.8,\n",
        "       27.6,\n",
        "       16.4,\n",
        "       16.1,\n",
        "       19,\n",
        "       13.5,\n",
        "       18.9,\n",
        "       20.2,\n",
        "       19.7,\n",
        "       18.2,\n",
        "       15.4,\n",
        "       15.7,\n",
        "       19,\n",
        "       11.5,\n",
        "       18.4,\n",
        "       16,\n",
        "       16.9,\n",
        "       12,\n",
        "       40.1,\n",
        "       19.2]\n",
        "\n",
        "# initialise data of lists.\n",
        "data = {'data':pd.Series(lst)}\n",
        "df = pd.DataFrame(data)\n",
        "df.head()"
      ],
      "execution_count": 32,
      "outputs": [
        {
          "output_type": "execute_result",
          "data": {
            "text/html": [
              "<div>\n",
              "<style scoped>\n",
              "    .dataframe tbody tr th:only-of-type {\n",
              "        vertical-align: middle;\n",
              "    }\n",
              "\n",
              "    .dataframe tbody tr th {\n",
              "        vertical-align: top;\n",
              "    }\n",
              "\n",
              "    .dataframe thead th {\n",
              "        text-align: right;\n",
              "    }\n",
              "</style>\n",
              "<table border=\"1\" class=\"dataframe\">\n",
              "  <thead>\n",
              "    <tr style=\"text-align: right;\">\n",
              "      <th></th>\n",
              "      <th>data</th>\n",
              "    </tr>\n",
              "  </thead>\n",
              "  <tbody>\n",
              "    <tr>\n",
              "      <th>0</th>\n",
              "      <td>22.7</td>\n",
              "    </tr>\n",
              "    <tr>\n",
              "      <th>1</th>\n",
              "      <td>16.3</td>\n",
              "    </tr>\n",
              "    <tr>\n",
              "      <th>2</th>\n",
              "      <td>13.6</td>\n",
              "    </tr>\n",
              "    <tr>\n",
              "      <th>3</th>\n",
              "      <td>16.8</td>\n",
              "    </tr>\n",
              "    <tr>\n",
              "      <th>4</th>\n",
              "      <td>29.9</td>\n",
              "    </tr>\n",
              "  </tbody>\n",
              "</table>\n",
              "</div>"
            ],
            "text/plain": [
              "   data\n",
              "0  22.7\n",
              "1  16.3\n",
              "2  13.6\n",
              "3  16.8\n",
              "4  29.9"
            ]
          },
          "metadata": {},
          "execution_count": 32
        }
      ]
    },
    {
      "cell_type": "markdown",
      "metadata": {
        "id": "mMM9T9yOCN0E"
      },
      "source": [
        "Calculate Mean and Variance"
      ]
    },
    {
      "cell_type": "code",
      "metadata": {
        "colab": {
          "base_uri": "https://localhost:8080/"
        },
        "id": "-hE8jSI5Bke9",
        "outputId": "1e58981b-8fb1-42fa-dc54-ec968fe6a8dd"
      },
      "source": [
        "mean = df.mean(axis =0)\n",
        "stdev = df.std(axis=0)\n",
        "print('mean:', mean)\n",
        "print('std_dev:',stdev)"
      ],
      "execution_count": 33,
      "outputs": [
        {
          "output_type": "stream",
          "name": "stdout",
          "text": [
            "mean: data    18.433333\n",
            "dtype: float64\n",
            "std_dev: data    5.765853\n",
            "dtype: float64\n"
          ]
        }
      ]
    },
    {
      "cell_type": "markdown",
      "metadata": {
        "id": "_SiDn4NXDqvk"
      },
      "source": [
        "Plot a histogram of the data"
      ]
    },
    {
      "cell_type": "code",
      "metadata": {
        "colab": {
          "base_uri": "https://localhost:8080/",
          "height": 318
        },
        "id": "fKcGEGOyDJD6",
        "outputId": "5220365e-f483-4645-f629-dbbe83b23b78"
      },
      "source": [
        "df.hist()"
      ],
      "execution_count": 34,
      "outputs": [
        {
          "output_type": "execute_result",
          "data": {
            "text/plain": [
              "array([[<matplotlib.axes._subplots.AxesSubplot object at 0x7f7103c48790>]],\n",
              "      dtype=object)"
            ]
          },
          "metadata": {},
          "execution_count": 34
        },
        {
          "output_type": "display_data",
          "data": {
            "image/png": "[encoded data removed]",
            "text/plain": [
              "<Figure size 432x288 with 1 Axes>"
            ]
          },
          "metadata": {
            "needs_background": "light"
          }
        }
      ]
    },
    {
      "cell_type": "markdown",
      "metadata": {
        "id": "5ZFXJGJtD4sH"
      },
      "source": [
        "Compute the mean of the data and a 95% confidence interval, assuming normal distribution."
      ]
    },
    {
      "cell_type": "code",
      "metadata": {
        "colab": {
          "base_uri": "https://localhost:8080/"
        },
        "id": "PZ1Z1tpFEyPl",
        "outputId": "77eb95f7-7a4e-4045-9cd3-d8bf1ee3ef75"
      },
      "source": [
        "q = stdev/np.sqrt(len(lst))\n",
        "upper = mean+1.96*q\n",
        "lower = mean-1.96*q\n",
        "\n",
        "print('lower bound:', lower)\n",
        "print('upper bound:',upper)"
      ],
      "execution_count": 49,
      "outputs": [
        {
          "output_type": "stream",
          "name": "stdout",
          "text": [
            "lower bound: data    16.370049\n",
            "dtype: float64\n",
            "upper bound: data    20.496617\n",
            "dtype: float64\n"
          ]
        }
      ]
    },
    {
      "cell_type": "markdown",
      "metadata": {
        "id": "xRNDOwV1G2hl"
      },
      "source": [
        "From the given observations, draw 1000 new samples, each of size 30. \n",
        "\n",
        "The samples are drawn uniformly, and with replacement. \n",
        "\n",
        "Compute the mean from each of the new samples.\n",
        "\n",
        " Call the mean x∗. Therefore, you have 1000 such means x∗1, x∗2 . . . x∗1000."
      ]
    },
    {
      "cell_type": "code",
      "metadata": {
        "id": "hrD1v1r8GfPD"
      },
      "source": [
        ""
      ],
      "execution_count": null,
      "outputs": []
    }
  ]
}