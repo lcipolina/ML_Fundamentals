{
  "nbformat": 4,
  "nbformat_minor": 0,
  "metadata": {
    "colab": {
      "name": "Copy of Exercise_Set_1a.ipynb",
      "provenance": [],
      "include_colab_link": true
    },
    "kernelspec": {
      "name": "python3",
      "display_name": "Python 3"
    },
    "language_info": {
      "name": "python"
    }
  },
  "cells": [
    {
      "cell_type": "markdown",
      "metadata": {
        "id": "view-in-github",
        "colab_type": "text"
      },
      "source": [
        "<a href=\"https://colab.research.google.com/github/lcipolina/ML_Fundamentals/blob/main/Copy_of_Exercise_Set_1a.ipynb\" target=\"_parent\"><img src=\"https://colab.research.google.com/assets/colab-badge.svg\" alt=\"Open In Colab\"/></a>"
      ]
    },
    {
      "cell_type": "markdown",
      "metadata": {
        "id": "dY-eYHKi__Ph"
      },
      "source": [
        "# Exercise Set 1a - Python Arrays & DataFrames"
      ]
    },
    {
      "cell_type": "markdown",
      "metadata": {
        "id": "Mox-rsA2AMcz"
      },
      "source": [
        "Importing required libraries"
      ]
    },
    {
      "cell_type": "code",
      "metadata": {
        "id": "AeBiJyRdAEq-"
      },
      "source": [
        "import numpy as np\n",
        "import pandas as pd\n",
        "import seaborn as sns"
      ],
      "execution_count": null,
      "outputs": []
    },
    {
      "cell_type": "markdown",
      "metadata": {
        "id": "BBBi75RGAWHS"
      },
      "source": [
        "Create a Numpy array with 1 column and 100 rows. Fill this with some data of random numbers.\n",
        "\n",
        "You may utilize the random number functions np.random.randn() or np.random.randint() to generate random numbers."
      ]
    },
    {
      "cell_type": "code",
      "metadata": {
        "colab": {
          "base_uri": "https://localhost:8080/"
        },
        "id": "dJV1tptqAR9A",
        "outputId": "5433f09e-5efd-4be2-b16e-b2c84b0287a7"
      },
      "source": [
        "rand_int = np.random.randint(1,10,(100,1)) # random numpy array of shape (100,1) with rnd integers between (1,10)\n",
        "print(rand_int)"
      ],
      "execution_count": null,
      "outputs": [
        {
          "output_type": "stream",
          "name": "stdout",
          "text": [
            "[[1]\n",
            " [4]\n",
            " [3]\n",
            " [9]\n",
            " [2]\n",
            " [1]\n",
            " [8]\n",
            " [4]\n",
            " [2]\n",
            " [7]\n",
            " [2]\n",
            " [7]\n",
            " [8]\n",
            " [3]\n",
            " [3]\n",
            " [1]\n",
            " [8]\n",
            " [6]\n",
            " [9]\n",
            " [7]\n",
            " [4]\n",
            " [2]\n",
            " [7]\n",
            " [1]\n",
            " [1]\n",
            " [5]\n",
            " [1]\n",
            " [9]\n",
            " [2]\n",
            " [5]\n",
            " [8]\n",
            " [9]\n",
            " [5]\n",
            " [8]\n",
            " [7]\n",
            " [5]\n",
            " [5]\n",
            " [2]\n",
            " [3]\n",
            " [5]\n",
            " [5]\n",
            " [8]\n",
            " [5]\n",
            " [6]\n",
            " [8]\n",
            " [4]\n",
            " [8]\n",
            " [3]\n",
            " [1]\n",
            " [7]\n",
            " [3]\n",
            " [7]\n",
            " [9]\n",
            " [3]\n",
            " [1]\n",
            " [7]\n",
            " [6]\n",
            " [3]\n",
            " [1]\n",
            " [2]\n",
            " [4]\n",
            " [3]\n",
            " [3]\n",
            " [9]\n",
            " [4]\n",
            " [9]\n",
            " [7]\n",
            " [6]\n",
            " [4]\n",
            " [3]\n",
            " [5]\n",
            " [6]\n",
            " [4]\n",
            " [6]\n",
            " [7]\n",
            " [8]\n",
            " [5]\n",
            " [6]\n",
            " [3]\n",
            " [9]\n",
            " [7]\n",
            " [3]\n",
            " [4]\n",
            " [4]\n",
            " [2]\n",
            " [4]\n",
            " [6]\n",
            " [5]\n",
            " [8]\n",
            " [4]\n",
            " [1]\n",
            " [1]\n",
            " [9]\n",
            " [5]\n",
            " [7]\n",
            " [3]\n",
            " [8]\n",
            " [3]\n",
            " [2]\n",
            " [6]]\n"
          ]
        }
      ]
    },
    {
      "cell_type": "markdown",
      "metadata": {
        "id": "xVVSzmR8CxTB"
      },
      "source": [
        "Convert numpy array into pandas data series"
      ]
    },
    {
      "cell_type": "code",
      "metadata": {
        "colab": {
          "base_uri": "https://localhost:8080/",
          "height": 424
        },
        "id": "RdV4bjasCSKl",
        "outputId": "3cc30f3a-feac-4127-de45-f5974efddcef"
      },
      "source": [
        "df = pd.DataFrame(rand_int, columns=['Column1'])\n",
        "df"
      ],
      "execution_count": null,
      "outputs": [
        {
          "output_type": "execute_result",
          "data": {
            "text/html": [
              "<div>\n",
              "<style scoped>\n",
              "    .dataframe tbody tr th:only-of-type {\n",
              "        vertical-align: middle;\n",
              "    }\n",
              "\n",
              "    .dataframe tbody tr th {\n",
              "        vertical-align: top;\n",
              "    }\n",
              "\n",
              "    .dataframe thead th {\n",
              "        text-align: right;\n",
              "    }\n",
              "</style>\n",
              "<table border=\"1\" class=\"dataframe\">\n",
              "  <thead>\n",
              "    <tr style=\"text-align: right;\">\n",
              "      <th></th>\n",
              "      <th>Column1</th>\n",
              "    </tr>\n",
              "  </thead>\n",
              "  <tbody>\n",
              "    <tr>\n",
              "      <th>0</th>\n",
              "      <td>1</td>\n",
              "    </tr>\n",
              "    <tr>\n",
              "      <th>1</th>\n",
              "      <td>4</td>\n",
              "    </tr>\n",
              "    <tr>\n",
              "      <th>2</th>\n",
              "      <td>3</td>\n",
              "    </tr>\n",
              "    <tr>\n",
              "      <th>3</th>\n",
              "      <td>9</td>\n",
              "    </tr>\n",
              "    <tr>\n",
              "      <th>4</th>\n",
              "      <td>2</td>\n",
              "    </tr>\n",
              "    <tr>\n",
              "      <th>...</th>\n",
              "      <td>...</td>\n",
              "    </tr>\n",
              "    <tr>\n",
              "      <th>95</th>\n",
              "      <td>3</td>\n",
              "    </tr>\n",
              "    <tr>\n",
              "      <th>96</th>\n",
              "      <td>8</td>\n",
              "    </tr>\n",
              "    <tr>\n",
              "      <th>97</th>\n",
              "      <td>3</td>\n",
              "    </tr>\n",
              "    <tr>\n",
              "      <th>98</th>\n",
              "      <td>2</td>\n",
              "    </tr>\n",
              "    <tr>\n",
              "      <th>99</th>\n",
              "      <td>6</td>\n",
              "    </tr>\n",
              "  </tbody>\n",
              "</table>\n",
              "<p>100 rows × 1 columns</p>\n",
              "</div>"
            ],
            "text/plain": [
              "    Column1\n",
              "0         1\n",
              "1         4\n",
              "2         3\n",
              "3         9\n",
              "4         2\n",
              "..      ...\n",
              "95        3\n",
              "96        8\n",
              "97        3\n",
              "98        2\n",
              "99        6\n",
              "\n",
              "[100 rows x 1 columns]"
            ]
          },
          "metadata": {},
          "execution_count": 25
        }
      ]
    },
    {
      "cell_type": "markdown",
      "metadata": {
        "id": "wMRFZebvDXS2"
      },
      "source": [
        "Create a Numpy array with 3 columns and 100 rows. \n",
        "Fill this with some data of random numbers."
      ]
    },
    {
      "cell_type": "code",
      "metadata": {
        "colab": {
          "base_uri": "https://localhost:8080/"
        },
        "id": "Ovbch1X2DVA6",
        "outputId": "fc32855d-c732-4222-b1f2-4743ab5ab668"
      },
      "source": [
        "rand_int = np.random.randint(1,10,(100,3)) # random numpy array of shape (100,3) with rnd integers between (1,10)\n",
        "print(rand_int)"
      ],
      "execution_count": null,
      "outputs": [
        {
          "output_type": "stream",
          "name": "stdout",
          "text": [
            "[[1 9 4]\n",
            " [6 5 9]\n",
            " [2 8 6]\n",
            " [1 5 1]\n",
            " [9 2 7]\n",
            " [5 5 9]\n",
            " [8 5 2]\n",
            " [7 2 2]\n",
            " [2 6 8]\n",
            " [8 2 4]\n",
            " [3 9 8]\n",
            " [4 5 6]\n",
            " [5 6 3]\n",
            " [6 1 4]\n",
            " [9 4 3]\n",
            " [3 9 5]\n",
            " [6 6 1]\n",
            " [3 6 6]\n",
            " [4 9 9]\n",
            " [1 2 1]\n",
            " [1 7 6]\n",
            " [5 4 7]\n",
            " [4 6 4]\n",
            " [5 7 2]\n",
            " [2 5 8]\n",
            " [6 6 8]\n",
            " [7 7 4]\n",
            " [4 9 8]\n",
            " [9 4 6]\n",
            " [1 1 9]\n",
            " [8 2 7]\n",
            " [9 8 6]\n",
            " [4 2 2]\n",
            " [4 3 7]\n",
            " [8 7 2]\n",
            " [6 6 9]\n",
            " [9 5 8]\n",
            " [2 9 6]\n",
            " [6 6 2]\n",
            " [1 1 7]\n",
            " [2 1 4]\n",
            " [7 8 4]\n",
            " [7 6 5]\n",
            " [1 7 9]\n",
            " [4 7 8]\n",
            " [1 2 4]\n",
            " [8 9 9]\n",
            " [3 5 5]\n",
            " [2 1 2]\n",
            " [1 2 4]\n",
            " [6 8 5]\n",
            " [2 7 6]\n",
            " [1 7 7]\n",
            " [9 9 1]\n",
            " [9 9 6]\n",
            " [5 8 5]\n",
            " [7 7 8]\n",
            " [5 7 7]\n",
            " [2 8 6]\n",
            " [3 9 6]\n",
            " [1 4 8]\n",
            " [9 6 2]\n",
            " [8 4 9]\n",
            " [8 5 8]\n",
            " [4 6 6]\n",
            " [6 7 1]\n",
            " [5 7 4]\n",
            " [9 5 8]\n",
            " [8 7 2]\n",
            " [4 1 4]\n",
            " [4 8 8]\n",
            " [9 8 8]\n",
            " [2 6 2]\n",
            " [2 6 3]\n",
            " [8 8 7]\n",
            " [9 7 8]\n",
            " [3 2 4]\n",
            " [9 1 1]\n",
            " [8 6 7]\n",
            " [9 2 7]\n",
            " [9 5 4]\n",
            " [8 4 6]\n",
            " [5 1 3]\n",
            " [7 4 6]\n",
            " [6 4 1]\n",
            " [9 5 4]\n",
            " [6 4 5]\n",
            " [6 2 6]\n",
            " [3 4 3]\n",
            " [1 3 9]\n",
            " [2 7 1]\n",
            " [6 2 5]\n",
            " [9 9 7]\n",
            " [8 6 1]\n",
            " [1 2 6]\n",
            " [5 3 4]\n",
            " [9 2 8]\n",
            " [2 7 3]\n",
            " [3 3 2]\n",
            " [6 9 6]]\n"
          ]
        }
      ]
    },
    {
      "cell_type": "markdown",
      "metadata": {
        "id": "yLxkK9bHDsbi"
      },
      "source": [
        "Convert the above array into a pandas DataFrame. \n",
        "\n",
        "Note that a DataFrame has labels for each column. Choose some appropriate labels, such as X1, X2, X3."
      ]
    },
    {
      "cell_type": "code",
      "metadata": {
        "id": "g3Pu0rcxDJjW"
      },
      "source": [
        "df = pd.DataFrame(rand_int, columns=['X1','X2','X3'])\n",
        "df"
      ],
      "execution_count": null,
      "outputs": []
    },
    {
      "cell_type": "markdown",
      "metadata": {
        "id": "gu6cacLJECOu"
      },
      "source": [
        "Use the above generated DataFrame to do a pairplot.\n",
        "\n",
        "Utilize the Seaborn function\n",
        "sns.pairplot()"
      ]
    },
    {
      "cell_type": "code",
      "metadata": {
        "colab": {
          "base_uri": "https://localhost:8080/",
          "height": 231
        },
        "id": "veRQAjs6D3Lu",
        "outputId": "ee874596-3585-49a6-9f9a-168ce8c5470e"
      },
      "source": [
        "import seaborn as sns\n",
        "g = sns.pairplot(df)\n",
        "\n",
        "\n",
        "import matplotlib.pyplot as plt\n",
        "plt.show()"
      ],
      "execution_count": null,
      "outputs": [
        {
          "output_type": "error",
          "ename": "NameError",
          "evalue": "ignored",
          "traceback": [
            "\u001b[0;31m---------------------------------------------------------------------------\u001b[0m",
            "\u001b[0;31mNameError\u001b[0m                                 Traceback (most recent call last)",
            "\u001b[0;32m<ipython-input-2-b3ad729689b4>\u001b[0m in \u001b[0;36m<module>\u001b[0;34m()\u001b[0m\n\u001b[1;32m      1\u001b[0m \u001b[0;32mimport\u001b[0m \u001b[0mseaborn\u001b[0m \u001b[0;32mas\u001b[0m \u001b[0msns\u001b[0m\u001b[0;34m\u001b[0m\u001b[0;34m\u001b[0m\u001b[0m\n\u001b[0;32m----> 2\u001b[0;31m \u001b[0mg\u001b[0m \u001b[0;34m=\u001b[0m \u001b[0msns\u001b[0m\u001b[0;34m.\u001b[0m\u001b[0mpairplot\u001b[0m\u001b[0;34m(\u001b[0m\u001b[0mdf\u001b[0m\u001b[0;34m)\u001b[0m\u001b[0;34m\u001b[0m\u001b[0;34m\u001b[0m\u001b[0m\n\u001b[0m\u001b[1;32m      3\u001b[0m \u001b[0;34m\u001b[0m\u001b[0m\n\u001b[1;32m      4\u001b[0m \u001b[0;34m\u001b[0m\u001b[0m\n\u001b[1;32m      5\u001b[0m \u001b[0;32mimport\u001b[0m \u001b[0mmatplotlib\u001b[0m\u001b[0;34m.\u001b[0m\u001b[0mpyplot\u001b[0m \u001b[0;32mas\u001b[0m \u001b[0mplt\u001b[0m\u001b[0;34m\u001b[0m\u001b[0;34m\u001b[0m\u001b[0m\n",
            "\u001b[0;31mNameError\u001b[0m: name 'df' is not defined"
          ]
        }
      ]
    },
    {
      "cell_type": "markdown",
      "metadata": {
        "id": "j9wI53UyHceb"
      },
      "source": [
        "\n",
        "### Report\n",
        "\n",
        "* We have generated a matrix of random uncorrelated numbers. \n",
        "\n",
        "* We then plotted the numbers using the \"pairplot()\" function from the seaborn package. \n",
        "\n",
        "\n",
        "  This function generates a pair-wise plot with one variable on the X axis against the other variable plotted on the Y axis.\n",
        "\n",
        "  This is a quick way to study the correlation of both variables. Say they are both similar, we would expect to obtain all the dots aligned over the 45 degree line X=Y.\n",
        "\n",
        "  Here, because we have plotted random numbers, we see that the dots are all over the place, uniformly distributed across the plane.\n",
        "\n",
        "Note that on the diagonal we have a histogram of each of the variables.\n",
        "\n",
        "This is a quick way to get a feel of the separability of the behaviour of the data. "
      ]
    },
    {
      "cell_type": "code",
      "metadata": {
        "id": "EIZK6_C1Gxq8"
      },
      "source": [
        ""
      ],
      "execution_count": null,
      "outputs": []
    }
  ]
}