{
  "nbformat": 4,
  "nbformat_minor": 0,
  "metadata": {
    "colab": {
      "name": "Exercise_Se_ 1b-Deep_Space.ipynb",
      "provenance": [],
      "authorship_tag": "ABX9TyPzC2Vfi5BXESn3b09E0+Sq",
      "include_colab_link": true
    },
    "kernelspec": {
      "name": "python3",
      "display_name": "Python 3"
    },
    "language_info": {
      "name": "python"
    }
  },
  "cells": [
    {
      "cell_type": "markdown",
      "metadata": {
        "id": "view-in-github",
        "colab_type": "text"
      },
      "source": [
        "<a href=\"https://colab.research.google.com/github/lcipolina/ML_Fundamentals/blob/main/Exercise_Se__1b_Deep_Space.ipynb\" target=\"_parent\"><img src=\"https://colab.research.google.com/assets/colab-badge.svg\" alt=\"Open In Colab\"/></a>"
      ]
    },
    {
      "cell_type": "markdown",
      "metadata": {
        "id": "HTit7230t9L1"
      },
      "source": [
        "### Analysis of the Deep Space dataset\n",
        "\n",
        "Perform following data visualization with the Deep Space data set. \n",
        "\n",
        "Note that you want to use the target variable class as hue for the function sns.pairplot().\n",
        "\n",
        "* Scatter Plots\n",
        "* Histograms"
      ]
    },
    {
      "cell_type": "markdown",
      "metadata": {
        "id": "3qEPhIR8wm3K"
      },
      "source": [
        "### Imports"
      ]
    },
    {
      "cell_type": "code",
      "metadata": {
        "id": "aLx1B5NZqqm2"
      },
      "source": [
        "import numpy as np\n",
        "import seaborn as sns\n",
        "import pandas as pd\n",
        "import matplotlib.pyplot as plt"
      ],
      "execution_count": 1,
      "outputs": []
    },
    {
      "cell_type": "markdown",
      "metadata": {
        "id": "F-RR1vRswr5O"
      },
      "source": [
        "### Load data and inspect the first rows"
      ]
    },
    {
      "cell_type": "code",
      "metadata": {
        "id": "Rjcb8j9kuAFX"
      },
      "source": [
        "df = pd.read_csv ('DeepSpaceData.csv')\n",
        "df.head()"
      ],
      "execution_count": null,
      "outputs": []
    },
    {
      "cell_type": "markdown",
      "metadata": {
        "id": "FTkxAGg4w5d0"
      },
      "source": [
        "#### Show summary statistics"
      ]
    },
    {
      "cell_type": "code",
      "metadata": {
        "id": "zd-7EfiIw51_"
      },
      "source": [
        "df.describe()"
      ],
      "execution_count": null,
      "outputs": []
    },
    {
      "cell_type": "markdown",
      "metadata": {
        "id": "jXpr-LvMw8kB"
      },
      "source": [
        "#### Plot both scatter Plots and histohram with \"pairplot\""
      ]
    },
    {
      "cell_type": "code",
      "metadata": {
        "id": "xDM8JJPFw_h_"
      },
      "source": [
        "sns.pairplot(df, hue=\"class\", palette=\"husl\")  #TO CHANGE"
      ],
      "execution_count": null,
      "outputs": []
    },
    {
      "cell_type": "markdown",
      "metadata": {
        "id": "rM0RE7s8xk3G"
      },
      "source": [
        "### Comment on the plots"
      ]
    },
    {
      "cell_type": "markdown",
      "metadata": {
        "id": "mxfyH1LrxrQ9"
      },
      "source": [
        "#### Outliers with the Density Histogram method  -- TO CHANGE"
      ]
    },
    {
      "cell_type": "code",
      "metadata": {
        "id": "NQ0nosHRxoYB"
      },
      "source": [
        "#Create a figure with subplots and add on top of them\n",
        "\n",
        "import warnings\n",
        "warnings.filterwarnings('ignore') #less verbose\n",
        "\n",
        "\n",
        "\n",
        "plt.figure(figsize=(19,7))\n",
        "\n",
        "plt.subplot(2,2,1)\n",
        "sns.distplot(df['variance'])\n",
        "\n",
        "plt.subplot(2,2,2)\n",
        "sns.distplot(df['skewness'])\n",
        "\n",
        "plt.subplot(2,2,3)\n",
        "sns.distplot(df['curtosis'])\n",
        "\n",
        "plt.subplot(2,2,4)\n",
        "sns.distplot(df['entropy'])\n",
        "\n",
        "plt.show()"
      ],
      "execution_count": null,
      "outputs": []
    },
    {
      "cell_type": "markdown",
      "metadata": {
        "id": "Bw8EbPsUxyzs"
      },
      "source": [
        "Let's check the outliers for 'curtosis'"
      ]
    },
    {
      "cell_type": "code",
      "metadata": {
        "id": "GV_0eSKsxzOq"
      },
      "source": [
        "print(\"Highest allowed\",df['curtosis'].mean() + 3*df['curtosis'].std())\n",
        "print(\"Lowest allowed\",df['curtosis'].mean() - 3*df['curtosis'].std())"
      ],
      "execution_count": null,
      "outputs": []
    },
    {
      "cell_type": "code",
      "metadata": {
        "id": "6uq5keBxx1aK"
      },
      "source": [
        "# Find outliers within the 'curtosis' column\n",
        "df[(df['curtosis'] > 14.3) | (df['curtosis'] < -11.5)]"
      ],
      "execution_count": null,
      "outputs": []
    },
    {
      "cell_type": "markdown",
      "metadata": {
        "id": "ANJFcMjdx5Mk"
      },
      "source": [
        "#### Identification of outliers with Boxplots"
      ]
    },
    {
      "cell_type": "code",
      "metadata": {
        "id": "7D7iihu9x5rF"
      },
      "source": [
        "# box plot of the variable curtosis\n",
        "ax = sns.boxplot(df['curtosis'])\n",
        "\n",
        "\n",
        "# xtick, label, and title\n",
        "plt.xticks(fontsize=14)\n",
        "plt.xlabel('values', fontsize=14)\n",
        "plt.title('Distribution of curtosis', fontsize=20)"
      ],
      "execution_count": null,
      "outputs": []
    },
    {
      "cell_type": "markdown",
      "metadata": {
        "id": "qLtiT-hVx7wb"
      },
      "source": [
        "### Comment on the boxplots"
      ]
    },
    {
      "cell_type": "markdown",
      "metadata": {
        "id": "-_G4sGsByCCC"
      },
      "source": [
        "### Hexbin Plot and Scatter Plots"
      ]
    },
    {
      "cell_type": "code",
      "metadata": {
        "id": "Xkn76Smxx_Lv"
      },
      "source": [
        "# Variance vs Skewness\n",
        "h = sns.jointplot(data = df, x=df['variance'], y= df['skewness'], kind = 'hex', height = 8)\n",
        "h.ax_joint.set_xlabel('Variance', fontweight = 'bold')\n",
        "h.ax_joint.set_ylabel('Skewness',fontweight = 'bold' )"
      ],
      "execution_count": null,
      "outputs": []
    }
  ]
}