{
  "nbformat": 4,
  "nbformat_minor": 0,
  "metadata": {
    "colab": {
      "name": "3a-2.ipynb",
      "provenance": [],
      "collapsed_sections": [],
      "authorship_tag": "ABX9TyNAiEtBosmdSqOEAh2U3rC+",
      "include_colab_link": true
    },
    "kernelspec": {
      "name": "python3",
      "display_name": "Python 3"
    },
    "language_info": {
      "name": "python"
    }
  },
  "cells": [
    {
      "cell_type": "markdown",
      "metadata": {
        "id": "view-in-github",
        "colab_type": "text"
      },
      "source": [
        "<a href=\"https://colab.research.google.com/github/lcipolina/ML_Fundamentals/blob/main/3a_2-Car_data.ipynb\" target=\"_parent\"><img src=\"https://colab.research.google.com/assets/colab-badge.svg\" alt=\"Open In Colab\"/></a>"
      ]
    },
    {
      "cell_type": "markdown",
      "metadata": {
        "id": "7E8RH3h2oAPX"
      },
      "source": [
        "Perform visualization and Decision Tree classification of the Car Evaluation data set, as described in Assignment 3, Project Task 1\n",
        "\n",
        "https://www.kaggle.com/prashant111/decision-tree-classifier-tutorial"
      ]
    },
    {
      "cell_type": "code",
      "metadata": {
        "id": "v3J8HW9cm4S_"
      },
      "source": [
        "import os\n",
        "from sklearn.tree import DecisionTreeClassifier, export_graphviz  # Import Decision Tree Classifier\n",
        "import pandas as pd\n",
        "import numpy as np\n",
        "from sklearn.model_selection import train_test_split  # Import train_test_split function \n",
        "#from sklearn import cross_validation, metrics\n",
        "from time import time\n",
        "from sklearn import preprocessing\n",
        "from sklearn.pipeline import Pipeline\n",
        "from sklearn.metrics import roc_auc_score , classification_report\n",
        "#from sklearn.grid_search import GridSearchCV\n",
        "from sklearn.pipeline import Pipeline\n",
        "from sklearn.metrics import precision_score, recall_score, accuracy_score, classification_report #Import scikit-learn metrics module to calculate accuracy\n",
        "\n",
        "import warnings\n",
        "warnings.filterwarnings('ignore')"
      ],
      "execution_count": 32,
      "outputs": []
    },
    {
      "cell_type": "code",
      "metadata": {
        "colab": {
          "base_uri": "https://localhost:8080/",
          "height": 200
        },
        "id": "RJuNgrr4rUJS",
        "outputId": "fc097bdb-28ec-4a15-ff22-630fef3d1271"
      },
      "source": [
        "# store as DataFrame\n",
        "df = pd.read_csv ('CarDataM.csv')\n",
        "df = df.dropna() #Remove NAs (just in case, there are non NaN's on this DB)\n",
        "df.head()"
      ],
      "execution_count": 96,
      "outputs": [
        {
          "output_type": "execute_result",
          "data": {
            "text/html": [
              "<div>\n",
              "<style scoped>\n",
              "    .dataframe tbody tr th:only-of-type {\n",
              "        vertical-align: middle;\n",
              "    }\n",
              "\n",
              "    .dataframe tbody tr th {\n",
              "        vertical-align: top;\n",
              "    }\n",
              "\n",
              "    .dataframe thead th {\n",
              "        text-align: right;\n",
              "    }\n",
              "</style>\n",
              "<table border=\"1\" class=\"dataframe\">\n",
              "  <thead>\n",
              "    <tr style=\"text-align: right;\">\n",
              "      <th></th>\n",
              "      <th>Buying</th>\n",
              "      <th>Maint</th>\n",
              "      <th>doors</th>\n",
              "      <th>persons</th>\n",
              "      <th>lug_boot</th>\n",
              "      <th>safety</th>\n",
              "      <th>class</th>\n",
              "    </tr>\n",
              "  </thead>\n",
              "  <tbody>\n",
              "    <tr>\n",
              "      <th>0</th>\n",
              "      <td>vhigh</td>\n",
              "      <td>vhigh</td>\n",
              "      <td>2</td>\n",
              "      <td>2</td>\n",
              "      <td>small</td>\n",
              "      <td>low</td>\n",
              "      <td>unacc</td>\n",
              "    </tr>\n",
              "    <tr>\n",
              "      <th>1</th>\n",
              "      <td>vhigh</td>\n",
              "      <td>vhigh</td>\n",
              "      <td>2</td>\n",
              "      <td>2</td>\n",
              "      <td>small</td>\n",
              "      <td>med</td>\n",
              "      <td>unacc</td>\n",
              "    </tr>\n",
              "    <tr>\n",
              "      <th>2</th>\n",
              "      <td>vhigh</td>\n",
              "      <td>vhigh</td>\n",
              "      <td>2</td>\n",
              "      <td>2</td>\n",
              "      <td>small</td>\n",
              "      <td>high</td>\n",
              "      <td>unacc</td>\n",
              "    </tr>\n",
              "    <tr>\n",
              "      <th>3</th>\n",
              "      <td>vhigh</td>\n",
              "      <td>vhigh</td>\n",
              "      <td>2</td>\n",
              "      <td>2</td>\n",
              "      <td>med</td>\n",
              "      <td>low</td>\n",
              "      <td>unacc</td>\n",
              "    </tr>\n",
              "    <tr>\n",
              "      <th>4</th>\n",
              "      <td>vhigh</td>\n",
              "      <td>vhigh</td>\n",
              "      <td>2</td>\n",
              "      <td>2</td>\n",
              "      <td>med</td>\n",
              "      <td>med</td>\n",
              "      <td>unacc</td>\n",
              "    </tr>\n",
              "  </tbody>\n",
              "</table>\n",
              "</div>"
            ],
            "text/plain": [
              "  Buying  Maint doors persons lug_boot safety  class\n",
              "0  vhigh  vhigh     2       2    small    low  unacc\n",
              "1  vhigh  vhigh     2       2    small    med  unacc\n",
              "2  vhigh  vhigh     2       2    small   high  unacc\n",
              "3  vhigh  vhigh     2       2      med    low  unacc\n",
              "4  vhigh  vhigh     2       2      med    med  unacc"
            ]
          },
          "metadata": {},
          "execution_count": 96
        }
      ]
    },
    {
      "cell_type": "markdown",
      "metadata": {
        "id": "u6J24tsGsWk4"
      },
      "source": [
        "Perform data visualization with bar plots, for the various values of the class label."
      ]
    },
    {
      "cell_type": "code",
      "metadata": {
        "colab": {
          "base_uri": "https://localhost:8080/",
          "height": 385
        },
        "id": "08p1fvYRkmxj",
        "outputId": "1e528dfc-1837-4d74-8cd3-d90767630957"
      },
      "source": [
        "sns.catplot(x=\"doors\", y=\"persons\", hue=\"class\", kind=\"swarm\", data=df)"
      ],
      "execution_count": 93,
      "outputs": [
        {
          "output_type": "execute_result",
          "data": {
            "text/plain": [
              "<seaborn.axisgrid.FacetGrid at 0x7f7987f62810>"
            ]
          },
          "metadata": {},
          "execution_count": 93
        },
        {
          "output_type": "display_data",
          "data": {
            "image/png": "[encoded data removed]",
            "text/plain": [
              "<Figure size 425.875x360 with 1 Axes>"
            ]
          },
          "metadata": {
            "needs_background": "light"
          }
        }
      ]
    },
    {
      "cell_type": "code",
      "metadata": {
        "colab": {
          "base_uri": "https://localhost:8080/",
          "height": 298
        },
        "id": "i203zZvHl-vs",
        "outputId": "b650d39a-8e22-4ae9-ca0f-1c87d5b1d465"
      },
      "source": [
        "df['Buying'].value_counts().plot(kind='bar')"
      ],
      "execution_count": 97,
      "outputs": [
        {
          "output_type": "execute_result",
          "data": {
            "text/plain": [
              "<matplotlib.axes._subplots.AxesSubplot at 0x7f7987edf690>"
            ]
          },
          "metadata": {},
          "execution_count": 97
        },
        {
          "output_type": "display_data",
          "data": {
            "image/png": "[encoded data removed]",
            "text/plain": [
              "<Figure size 432x288 with 1 Axes>"
            ]
          },
          "metadata": {
            "needs_background": "light"
          }
        }
      ]
    },
    {
      "cell_type": "code",
      "metadata": {
        "colab": {
          "base_uri": "https://localhost:8080/",
          "height": 296
        },
        "id": "ZtO0rCrsmYIG",
        "outputId": "9a5fcd50-38f0-4e93-ccbb-18007a0e2978"
      },
      "source": [
        "df['safety'].value_counts().plot(kind='bar')"
      ],
      "execution_count": 99,
      "outputs": [
        {
          "output_type": "execute_result",
          "data": {
            "text/plain": [
              "<matplotlib.axes._subplots.AxesSubplot at 0x7f7987dbf710>"
            ]
          },
          "metadata": {},
          "execution_count": 99
        },
        {
          "output_type": "display_data",
          "data": {
            "image/png": "[encoded data removed]",
            "text/plain": [
              "<Figure size 432x288 with 1 Axes>"
            ]
          },
          "metadata": {
            "needs_background": "light"
          }
        }
      ]
    },
    {
      "cell_type": "code",
      "metadata": {
        "colab": {
          "base_uri": "https://localhost:8080/",
          "height": 170
        },
        "id": "wuc6V3qXruRU",
        "outputId": "e322ab09-dfd7-452f-876a-01ab947fc834"
      },
      "source": [
        "df.describe()"
      ],
      "execution_count": 45,
      "outputs": [
        {
          "output_type": "execute_result",
          "data": {
            "text/html": [
              "<div>\n",
              "<style scoped>\n",
              "    .dataframe tbody tr th:only-of-type {\n",
              "        vertical-align: middle;\n",
              "    }\n",
              "\n",
              "    .dataframe tbody tr th {\n",
              "        vertical-align: top;\n",
              "    }\n",
              "\n",
              "    .dataframe thead th {\n",
              "        text-align: right;\n",
              "    }\n",
              "</style>\n",
              "<table border=\"1\" class=\"dataframe\">\n",
              "  <thead>\n",
              "    <tr style=\"text-align: right;\">\n",
              "      <th></th>\n",
              "      <th>Buying</th>\n",
              "      <th>Maint</th>\n",
              "      <th>doors</th>\n",
              "      <th>persons</th>\n",
              "      <th>lug_boot</th>\n",
              "      <th>safety</th>\n",
              "      <th>class</th>\n",
              "    </tr>\n",
              "  </thead>\n",
              "  <tbody>\n",
              "    <tr>\n",
              "      <th>count</th>\n",
              "      <td>1728</td>\n",
              "      <td>1728</td>\n",
              "      <td>1728</td>\n",
              "      <td>1728</td>\n",
              "      <td>1728</td>\n",
              "      <td>1728</td>\n",
              "      <td>1728</td>\n",
              "    </tr>\n",
              "    <tr>\n",
              "      <th>unique</th>\n",
              "      <td>4</td>\n",
              "      <td>4</td>\n",
              "      <td>4</td>\n",
              "      <td>3</td>\n",
              "      <td>3</td>\n",
              "      <td>3</td>\n",
              "      <td>3</td>\n",
              "    </tr>\n",
              "    <tr>\n",
              "      <th>top</th>\n",
              "      <td>vhigh</td>\n",
              "      <td>vhigh</td>\n",
              "      <td>4</td>\n",
              "      <td>more</td>\n",
              "      <td>big</td>\n",
              "      <td>low</td>\n",
              "      <td>unacc</td>\n",
              "    </tr>\n",
              "    <tr>\n",
              "      <th>freq</th>\n",
              "      <td>432</td>\n",
              "      <td>432</td>\n",
              "      <td>432</td>\n",
              "      <td>576</td>\n",
              "      <td>576</td>\n",
              "      <td>576</td>\n",
              "      <td>1210</td>\n",
              "    </tr>\n",
              "  </tbody>\n",
              "</table>\n",
              "</div>"
            ],
            "text/plain": [
              "       Buying  Maint doors persons lug_boot safety  class\n",
              "count    1728   1728  1728    1728     1728   1728   1728\n",
              "unique      4      4     4       3        3      3      3\n",
              "top     vhigh  vhigh     4    more      big    low  unacc\n",
              "freq      432    432   432     576      576    576   1210"
            ]
          },
          "metadata": {},
          "execution_count": 45
        }
      ]
    },
    {
      "cell_type": "code",
      "metadata": {
        "id": "FXsoEwB1sZw7"
      },
      "source": [
        "#Plot both scatter Plots and histohram with \"pairplot\""
      ],
      "execution_count": 46,
      "outputs": []
    },
    {
      "cell_type": "markdown",
      "metadata": {
        "id": "HOaurRVb6M2g"
      },
      "source": [
        "### Split the data into train-test set in 70-30 ratio. Train the classifier with the train data set."
      ]
    },
    {
      "cell_type": "markdown",
      "metadata": {
        "id": "J0l7fOjWkirl"
      },
      "source": [
        "### Classification with Entropy"
      ]
    },
    {
      "cell_type": "markdown",
      "metadata": {
        "id": "spLVcvht67Zs"
      },
      "source": [
        "Decision trees like most machine learning algorithms cannot process labeled data values hence the data needs to be encoded as numerical data."
      ]
    },
    {
      "cell_type": "code",
      "metadata": {
        "colab": {
          "base_uri": "https://localhost:8080/"
        },
        "id": "xyt5AAn37L9K",
        "outputId": "4b72efb1-6244-4a12-f8ba-ad5b143c763f"
      },
      "source": [
        "#First, find out all the features with type object in the test data:\n",
        "objList = df.select_dtypes(include = \"object\").columns\n",
        "print (objList)"
      ],
      "execution_count": 47,
      "outputs": [
        {
          "output_type": "stream",
          "name": "stdout",
          "text": [
            "Index(['Buying', 'Maint', 'doors', 'persons', 'lug_boot', 'safety', 'class'], dtype='object')\n"
          ]
        }
      ]
    },
    {
      "cell_type": "markdown",
      "metadata": {
        "id": "qIQeNcsgNdp5"
      },
      "source": [
        "Since the target class labels are strings, we'll have to convert in a format that our classifier would understand. For this we would use the LabelEncoder class of Scikit-Learn module 'preprocessing'. This converts our class labels into [1,2,3,4] where the integers would correspond to the respective class."
      ]
    },
    {
      "cell_type": "code",
      "metadata": {
        "id": "J9rZMr7SLI_u"
      },
      "source": [
        "#Convert car-class labels to numbers - Not needed - \n",
        "#le = preprocessing.LabelEncoder()\n",
        "#df['class'] = le.fit_transform(df['class'])    \n",
        "#df.head()         "
      ],
      "execution_count": 48,
      "outputs": []
    },
    {
      "cell_type": "code",
      "metadata": {
        "colab": {
          "base_uri": "https://localhost:8080/"
        },
        "id": "DSWHkFkyN1Px",
        "outputId": "4e62ad75-53d9-4a9b-8acd-1cd8ddb98db9"
      },
      "source": [
        "df['class'].unique()"
      ],
      "execution_count": 49,
      "outputs": [
        {
          "output_type": "execute_result",
          "data": {
            "text/plain": [
              "array(['unacc', 'acc', 'good'], dtype=object)"
            ]
          },
          "metadata": {},
          "execution_count": 49
        }
      ]
    },
    {
      "cell_type": "code",
      "metadata": {
        "colab": {
          "base_uri": "https://localhost:8080/",
          "height": 200
        },
        "id": "gYwyzdDROaj2",
        "outputId": "ecfdb13e-48ab-4861-a8ae-be9794d86c94"
      },
      "source": [
        "features = list(df.columns)\n",
        "features.remove('class')\n",
        "\n",
        "for f in features:\n",
        "    #Get binarized columns\n",
        "    df[f] = pd.get_dummies(df[f])\n",
        "\n",
        "df.head()    "
      ],
      "execution_count": 50,
      "outputs": [
        {
          "output_type": "execute_result",
          "data": {
            "text/html": [
              "<div>\n",
              "<style scoped>\n",
              "    .dataframe tbody tr th:only-of-type {\n",
              "        vertical-align: middle;\n",
              "    }\n",
              "\n",
              "    .dataframe tbody tr th {\n",
              "        vertical-align: top;\n",
              "    }\n",
              "\n",
              "    .dataframe thead th {\n",
              "        text-align: right;\n",
              "    }\n",
              "</style>\n",
              "<table border=\"1\" class=\"dataframe\">\n",
              "  <thead>\n",
              "    <tr style=\"text-align: right;\">\n",
              "      <th></th>\n",
              "      <th>Buying</th>\n",
              "      <th>Maint</th>\n",
              "      <th>doors</th>\n",
              "      <th>persons</th>\n",
              "      <th>lug_boot</th>\n",
              "      <th>safety</th>\n",
              "      <th>class</th>\n",
              "    </tr>\n",
              "  </thead>\n",
              "  <tbody>\n",
              "    <tr>\n",
              "      <th>0</th>\n",
              "      <td>0</td>\n",
              "      <td>0</td>\n",
              "      <td>1</td>\n",
              "      <td>1</td>\n",
              "      <td>0</td>\n",
              "      <td>0</td>\n",
              "      <td>unacc</td>\n",
              "    </tr>\n",
              "    <tr>\n",
              "      <th>1</th>\n",
              "      <td>0</td>\n",
              "      <td>0</td>\n",
              "      <td>1</td>\n",
              "      <td>1</td>\n",
              "      <td>0</td>\n",
              "      <td>0</td>\n",
              "      <td>unacc</td>\n",
              "    </tr>\n",
              "    <tr>\n",
              "      <th>2</th>\n",
              "      <td>0</td>\n",
              "      <td>0</td>\n",
              "      <td>1</td>\n",
              "      <td>1</td>\n",
              "      <td>0</td>\n",
              "      <td>1</td>\n",
              "      <td>unacc</td>\n",
              "    </tr>\n",
              "    <tr>\n",
              "      <th>3</th>\n",
              "      <td>0</td>\n",
              "      <td>0</td>\n",
              "      <td>1</td>\n",
              "      <td>1</td>\n",
              "      <td>0</td>\n",
              "      <td>0</td>\n",
              "      <td>unacc</td>\n",
              "    </tr>\n",
              "    <tr>\n",
              "      <th>4</th>\n",
              "      <td>0</td>\n",
              "      <td>0</td>\n",
              "      <td>1</td>\n",
              "      <td>1</td>\n",
              "      <td>0</td>\n",
              "      <td>0</td>\n",
              "      <td>unacc</td>\n",
              "    </tr>\n",
              "  </tbody>\n",
              "</table>\n",
              "</div>"
            ],
            "text/plain": [
              "   Buying  Maint  doors  persons  lug_boot  safety  class\n",
              "0       0      0      1        1         0       0  unacc\n",
              "1       0      0      1        1         0       0  unacc\n",
              "2       0      0      1        1         0       1  unacc\n",
              "3       0      0      1        1         0       0  unacc\n",
              "4       0      0      1        1         0       0  unacc"
            ]
          },
          "metadata": {},
          "execution_count": 50
        }
      ]
    },
    {
      "cell_type": "code",
      "metadata": {
        "id": "nrobqNJ16Fvj"
      },
      "source": [
        "# splitting the dataset into features and target variable\n",
        "feature_cols = [\"buying\", \"maint\", \"doors\", \"persons\", \"lug_boot\", \"safety\"]\n",
        "X = df.drop(['class'], axis=1) # feature matrix [1]\n",
        "y = df['class'] # target variable "
      ],
      "execution_count": 51,
      "outputs": []
    },
    {
      "cell_type": "code",
      "metadata": {
        "colab": {
          "base_uri": "https://localhost:8080/"
        },
        "id": "6F3CB2Iv6PoG",
        "outputId": "fdbc78cd-2b9b-46e9-c949-c4a13fe43604"
      },
      "source": [
        "X_train, X_test, y_train, y_test = train_test_split(X, y, test_size=0.30)\n",
        "X_train.shape, X_test.shape"
      ],
      "execution_count": 52,
      "outputs": [
        {
          "output_type": "execute_result",
          "data": {
            "text/plain": [
              "((1209, 6), (519, 6))"
            ]
          },
          "metadata": {},
          "execution_count": 52
        }
      ]
    },
    {
      "cell_type": "code",
      "metadata": {
        "colab": {
          "base_uri": "https://localhost:8080/",
          "height": 200
        },
        "id": "MxYU0ikrOvTI",
        "outputId": "50a064cb-1d01-4280-a062-bbb1c91ae4ed"
      },
      "source": [
        "X_train.head()"
      ],
      "execution_count": 53,
      "outputs": [
        {
          "output_type": "execute_result",
          "data": {
            "text/html": [
              "<div>\n",
              "<style scoped>\n",
              "    .dataframe tbody tr th:only-of-type {\n",
              "        vertical-align: middle;\n",
              "    }\n",
              "\n",
              "    .dataframe tbody tr th {\n",
              "        vertical-align: top;\n",
              "    }\n",
              "\n",
              "    .dataframe thead th {\n",
              "        text-align: right;\n",
              "    }\n",
              "</style>\n",
              "<table border=\"1\" class=\"dataframe\">\n",
              "  <thead>\n",
              "    <tr style=\"text-align: right;\">\n",
              "      <th></th>\n",
              "      <th>Buying</th>\n",
              "      <th>Maint</th>\n",
              "      <th>doors</th>\n",
              "      <th>persons</th>\n",
              "      <th>lug_boot</th>\n",
              "      <th>safety</th>\n",
              "    </tr>\n",
              "  </thead>\n",
              "  <tbody>\n",
              "    <tr>\n",
              "      <th>1611</th>\n",
              "      <td>0</td>\n",
              "      <td>0</td>\n",
              "      <td>0</td>\n",
              "      <td>0</td>\n",
              "      <td>0</td>\n",
              "      <td>0</td>\n",
              "    </tr>\n",
              "    <tr>\n",
              "      <th>1415</th>\n",
              "      <td>0</td>\n",
              "      <td>1</td>\n",
              "      <td>1</td>\n",
              "      <td>0</td>\n",
              "      <td>0</td>\n",
              "      <td>1</td>\n",
              "    </tr>\n",
              "    <tr>\n",
              "      <th>828</th>\n",
              "      <td>1</td>\n",
              "      <td>0</td>\n",
              "      <td>0</td>\n",
              "      <td>0</td>\n",
              "      <td>0</td>\n",
              "      <td>0</td>\n",
              "    </tr>\n",
              "    <tr>\n",
              "      <th>764</th>\n",
              "      <td>1</td>\n",
              "      <td>0</td>\n",
              "      <td>1</td>\n",
              "      <td>1</td>\n",
              "      <td>1</td>\n",
              "      <td>1</td>\n",
              "    </tr>\n",
              "    <tr>\n",
              "      <th>1624</th>\n",
              "      <td>0</td>\n",
              "      <td>0</td>\n",
              "      <td>1</td>\n",
              "      <td>1</td>\n",
              "      <td>0</td>\n",
              "      <td>0</td>\n",
              "    </tr>\n",
              "  </tbody>\n",
              "</table>\n",
              "</div>"
            ],
            "text/plain": [
              "      Buying  Maint  doors  persons  lug_boot  safety\n",
              "1611       0      0      0        0         0       0\n",
              "1415       0      1      1        0         0       1\n",
              "828        1      0      0        0         0       0\n",
              "764        1      0      1        1         1       1\n",
              "1624       0      0      1        1         0       0"
            ]
          },
          "metadata": {},
          "execution_count": 53
        }
      ]
    },
    {
      "cell_type": "code",
      "metadata": {
        "colab": {
          "base_uri": "https://localhost:8080/"
        },
        "id": "0d9kgPhjXHS5",
        "outputId": "027266bc-fa7d-4804-869d-a19273135ffd"
      },
      "source": [
        "!pip install --upgrade category_encoders\n",
        "import category_encoders as ce"
      ],
      "execution_count": 57,
      "outputs": [
        {
          "output_type": "stream",
          "name": "stdout",
          "text": [
            "Collecting category_encoders\n",
            "  Downloading category_encoders-2.3.0-py2.py3-none-any.whl (82 kB)\n",
            "\u001b[?25l\r\u001b[K     |████                            | 10 kB 31.5 MB/s eta 0:00:01\r\u001b[K     |████████                        | 20 kB 33.9 MB/s eta 0:00:01\r\u001b[K     |████████████                    | 30 kB 21.9 MB/s eta 0:00:01\r\u001b[K     |████████████████                | 40 kB 18.0 MB/s eta 0:00:01\r\u001b[K     |████████████████████            | 51 kB 8.1 MB/s eta 0:00:01\r\u001b[K     |████████████████████████        | 61 kB 8.6 MB/s eta 0:00:01\r\u001b[K     |████████████████████████████    | 71 kB 7.5 MB/s eta 0:00:01\r\u001b[K     |███████████████████████████████▉| 81 kB 8.4 MB/s eta 0:00:01\r\u001b[K     |████████████████████████████████| 82 kB 440 kB/s \n",
            "\u001b[?25hRequirement already satisfied: scipy>=1.0.0 in /usr/local/lib/python3.7/dist-packages (from category_encoders) (1.4.1)\n",
            "Requirement already satisfied: scikit-learn>=0.20.0 in /usr/local/lib/python3.7/dist-packages (from category_encoders) (1.0.1)\n",
            "Requirement already satisfied: pandas>=0.21.1 in /usr/local/lib/python3.7/dist-packages (from category_encoders) (1.1.5)\n",
            "Requirement already satisfied: patsy>=0.5.1 in /usr/local/lib/python3.7/dist-packages (from category_encoders) (0.5.2)\n",
            "Requirement already satisfied: statsmodels>=0.9.0 in /usr/local/lib/python3.7/dist-packages (from category_encoders) (0.10.2)\n",
            "Requirement already satisfied: numpy>=1.14.0 in /usr/local/lib/python3.7/dist-packages (from category_encoders) (1.19.5)\n",
            "Requirement already satisfied: pytz>=2017.2 in /usr/local/lib/python3.7/dist-packages (from pandas>=0.21.1->category_encoders) (2018.9)\n",
            "Requirement already satisfied: python-dateutil>=2.7.3 in /usr/local/lib/python3.7/dist-packages (from pandas>=0.21.1->category_encoders) (2.8.2)\n",
            "Requirement already satisfied: six in /usr/local/lib/python3.7/dist-packages (from patsy>=0.5.1->category_encoders) (1.15.0)\n",
            "Requirement already satisfied: threadpoolctl>=2.0.0 in /usr/local/lib/python3.7/dist-packages (from scikit-learn>=0.20.0->category_encoders) (3.0.0)\n",
            "Requirement already satisfied: joblib>=0.11 in /usr/local/lib/python3.7/dist-packages (from scikit-learn>=0.20.0->category_encoders) (1.1.0)\n",
            "Installing collected packages: category-encoders\n",
            "Successfully installed category-encoders-2.3.0\n"
          ]
        }
      ]
    },
    {
      "cell_type": "markdown",
      "metadata": {
        "id": "sSzp0KwYOJSN"
      },
      "source": [
        "Encode the rest of the variables"
      ]
    },
    {
      "cell_type": "code",
      "metadata": {
        "id": "IuCoR9xDJ4eG"
      },
      "source": [
        "# encode variables with ordinal encoding\n",
        "encoder = ce.OrdinalEncoder(cols=['Buying', 'Maint', 'doors', 'persons', 'lug_boot', 'safety'])\n",
        "X_train = encoder.fit_transform(X_train)\n",
        "X_test = encoder.transform(X_test)"
      ],
      "execution_count": 59,
      "outputs": []
    },
    {
      "cell_type": "code",
      "metadata": {
        "colab": {
          "base_uri": "https://localhost:8080/",
          "height": 200
        },
        "id": "lB1wtpQpXq8w",
        "outputId": "bfdc05ed-1911-42b5-8938-739903632398"
      },
      "source": [
        "X_train.head()"
      ],
      "execution_count": 60,
      "outputs": [
        {
          "output_type": "execute_result",
          "data": {
            "text/html": [
              "<div>\n",
              "<style scoped>\n",
              "    .dataframe tbody tr th:only-of-type {\n",
              "        vertical-align: middle;\n",
              "    }\n",
              "\n",
              "    .dataframe tbody tr th {\n",
              "        vertical-align: top;\n",
              "    }\n",
              "\n",
              "    .dataframe thead th {\n",
              "        text-align: right;\n",
              "    }\n",
              "</style>\n",
              "<table border=\"1\" class=\"dataframe\">\n",
              "  <thead>\n",
              "    <tr style=\"text-align: right;\">\n",
              "      <th></th>\n",
              "      <th>Buying</th>\n",
              "      <th>Maint</th>\n",
              "      <th>doors</th>\n",
              "      <th>persons</th>\n",
              "      <th>lug_boot</th>\n",
              "      <th>safety</th>\n",
              "    </tr>\n",
              "  </thead>\n",
              "  <tbody>\n",
              "    <tr>\n",
              "      <th>1611</th>\n",
              "      <td>1</td>\n",
              "      <td>1</td>\n",
              "      <td>1</td>\n",
              "      <td>1</td>\n",
              "      <td>1</td>\n",
              "      <td>1</td>\n",
              "    </tr>\n",
              "    <tr>\n",
              "      <th>1415</th>\n",
              "      <td>1</td>\n",
              "      <td>2</td>\n",
              "      <td>2</td>\n",
              "      <td>1</td>\n",
              "      <td>1</td>\n",
              "      <td>2</td>\n",
              "    </tr>\n",
              "    <tr>\n",
              "      <th>828</th>\n",
              "      <td>2</td>\n",
              "      <td>1</td>\n",
              "      <td>1</td>\n",
              "      <td>1</td>\n",
              "      <td>1</td>\n",
              "      <td>1</td>\n",
              "    </tr>\n",
              "    <tr>\n",
              "      <th>764</th>\n",
              "      <td>2</td>\n",
              "      <td>1</td>\n",
              "      <td>2</td>\n",
              "      <td>2</td>\n",
              "      <td>2</td>\n",
              "      <td>2</td>\n",
              "    </tr>\n",
              "    <tr>\n",
              "      <th>1624</th>\n",
              "      <td>1</td>\n",
              "      <td>1</td>\n",
              "      <td>2</td>\n",
              "      <td>2</td>\n",
              "      <td>1</td>\n",
              "      <td>1</td>\n",
              "    </tr>\n",
              "  </tbody>\n",
              "</table>\n",
              "</div>"
            ],
            "text/plain": [
              "      Buying  Maint  doors  persons  lug_boot  safety\n",
              "1611       1      1      1        1         1       1\n",
              "1415       1      2      2        1         1       2\n",
              "828        2      1      1        1         1       1\n",
              "764        2      1      2        2         2       2\n",
              "1624       1      1      2        2         1       1"
            ]
          },
          "metadata": {},
          "execution_count": 60
        }
      ]
    },
    {
      "cell_type": "code",
      "metadata": {
        "colab": {
          "base_uri": "https://localhost:8080/"
        },
        "id": "W8-miBESJ6BX",
        "outputId": "dc2f9dd9-82c4-4995-fa94-eb1016f54bab"
      },
      "source": [
        "from sklearn.tree import DecisionTreeClassifier\n",
        "# instantiate the DecisionTreeClassifier model with criterion entropy\n",
        "clf_en = DecisionTreeClassifier(criterion='entropy', max_depth=3, random_state=0)\n",
        "# fit the model\n",
        "clf_en.fit(X_train, y_train)"
      ],
      "execution_count": 68,
      "outputs": [
        {
          "output_type": "execute_result",
          "data": {
            "text/plain": [
              "DecisionTreeClassifier(criterion='entropy', max_depth=3, random_state=0)"
            ]
          },
          "metadata": {},
          "execution_count": 68
        }
      ]
    },
    {
      "cell_type": "code",
      "metadata": {
        "colab": {
          "base_uri": "https://localhost:8080/"
        },
        "id": "vJsD_fShLyTM",
        "outputId": "18444077-0c38-40d0-fecc-b1b201d511ef"
      },
      "source": [
        "#Predict the Test set results with criterion entropy\n",
        "y_pred_en = clf_en.predict(X_test)\n",
        "\n",
        "#Check accuracy score with criterion entropy\n",
        "from sklearn.metrics import accuracy_score\n",
        "print('Model accuracy score with criterion entropy: {0:0.4f}'. format(accuracy_score(y_test, y_pred_en)))"
      ],
      "execution_count": 69,
      "outputs": [
        {
          "output_type": "stream",
          "name": "stdout",
          "text": [
            "Model accuracy score with criterion entropy: 0.7803\n"
          ]
        }
      ]
    },
    {
      "cell_type": "code",
      "metadata": {
        "colab": {
          "base_uri": "https://localhost:8080/"
        },
        "id": "QONBtZGrJhdG",
        "outputId": "00c9b9bd-0159-4cc4-a05c-167e3a5546b1"
      },
      "source": [
        "#Compare the train-set and test-set accuracy\n",
        "y_pred_train_en = clf_en.predict(X_train)\n",
        "y_pred_train_en"
      ],
      "execution_count": 70,
      "outputs": [
        {
          "output_type": "execute_result",
          "data": {
            "text/plain": [
              "array(['unacc', 'acc', 'unacc', ..., 'unacc', 'acc', 'unacc'],\n",
              "      dtype=object)"
            ]
          },
          "metadata": {},
          "execution_count": 70
        }
      ]
    },
    {
      "cell_type": "code",
      "metadata": {
        "colab": {
          "base_uri": "https://localhost:8080/"
        },
        "id": "zt1Fo5mx64JS",
        "outputId": "ccaab905-c1aa-4902-96bd-3aceca77dd90"
      },
      "source": [
        "print('Training-set accuracy score: {0:0.4f}'. format(accuracy_score(y_train, y_pred_train_en)))"
      ],
      "execution_count": 71,
      "outputs": [
        {
          "output_type": "stream",
          "name": "stdout",
          "text": [
            "Training-set accuracy score: 0.7643\n"
          ]
        }
      ]
    },
    {
      "cell_type": "code",
      "metadata": {
        "colab": {
          "base_uri": "https://localhost:8080/"
        },
        "id": "ieajtDGHYXUo",
        "outputId": "e695fa45-98c3-4dc4-98df-4487f374517e"
      },
      "source": [
        "#Check for overfitting and underfitting\n",
        "\n",
        "\n",
        "# print the scores on training and test set\n",
        "print('Training set score: {:.4f}'.format(clf_en.score(X_train, y_train)))\n",
        "print('Test set score: {:.4f}'.format(clf_en.score(X_test, y_test)))"
      ],
      "execution_count": 72,
      "outputs": [
        {
          "output_type": "stream",
          "name": "stdout",
          "text": [
            "Training set score: 0.7643\n",
            "Test set score: 0.7803\n"
          ]
        }
      ]
    },
    {
      "cell_type": "code",
      "metadata": {
        "colab": {
          "base_uri": "https://localhost:8080/",
          "height": 632
        },
        "id": "iKXRJJMBYaBf",
        "outputId": "d16109b6-aab6-40e7-d366-50886bb550ed"
      },
      "source": [
        "#Visualize the desicion tree\n",
        "plt.figure(figsize=(12,8))\n",
        "from sklearn import tree\n",
        "tree.plot_tree(clf_en.fit(X_train, y_train)) "
      ],
      "execution_count": 73,
      "outputs": [
        {
          "output_type": "execute_result",
          "data": {
            "text/plain": [
              "[Text(418.5, 380.52, 'X[3] <= 1.5\\nentropy = 1.117\\nsamples = 1209\\nvalue = [268, 90, 851]'),\n",
              " Text(334.8, 271.8, 'X[5] <= 1.5\\nentropy = 1.352\\nsamples = 807\\nvalue = [268, 90, 449]'),\n",
              " Text(167.4, 163.07999999999998, 'X[4] <= 1.5\\nentropy = 1.057\\nsamples = 544\\nvalue = [132, 26, 386]'),\n",
              " Text(83.7, 54.360000000000014, 'entropy = 0.884\\nsamples = 351\\nvalue = [70, 9, 272]'),\n",
              " Text(251.10000000000002, 54.360000000000014, 'entropy = 1.284\\nsamples = 193\\nvalue = [62, 17, 114]'),\n",
              " Text(502.20000000000005, 163.07999999999998, 'X[0] <= 1.5\\nentropy = 1.482\\nsamples = 263\\nvalue = [136, 64, 63]'),\n",
              " Text(418.5, 54.360000000000014, 'entropy = 1.527\\nsamples = 195\\nvalue = [88, 64, 43]'),\n",
              " Text(585.9, 54.360000000000014, 'entropy = 0.874\\nsamples = 68\\nvalue = [48, 0, 20]'),\n",
              " Text(502.20000000000005, 271.8, 'entropy = 0.0\\nsamples = 402\\nvalue = [0, 0, 402]')]"
            ]
          },
          "metadata": {},
          "execution_count": 73
        },
        {
          "output_type": "display_data",
          "data": {
            "image/png": "[encoded data removed]",
            "text/plain": [
              "<Figure size 864x576 with 1 Axes>"
            ]
          },
          "metadata": {
            "needs_background": "light"
          }
        }
      ]
    },
    {
      "cell_type": "markdown",
      "metadata": {
        "id": "lKmiCow2cUQn"
      },
      "source": [
        "### Classification with Gini Index"
      ]
    },
    {
      "cell_type": "code",
      "metadata": {
        "colab": {
          "base_uri": "https://localhost:8080/",
          "height": 1000
        },
        "id": "rO03UJcLa-hS",
        "outputId": "c2aad173-11ca-4fbc-d301-67deb3690f20"
      },
      "source": [
        "\n",
        "df = pd.read_csv ('CarDataM.csv') # read_csv is a pandas function utilized to read csv files and do operations on it \n",
        "\n",
        "# renaming column names\n",
        "col_names = [\"buying\", \"maint\", \"doors\", \"persons\", \"lug_boot\", \"safety\", \"class\"] \n",
        "df.columns = col_names # assigning the above column names to the dataframe’s current columns\n",
        "\n",
        "df.shape # viewing dataset’s dimension\n",
        "df.head(5) # previewing the first 5 rows of the dataset\n",
        "\n",
        "# splitting the dataset into features and target variable\n",
        "feature_cols = [\"buying\", \"maint\", \"doors\", \"persons\", \"lug_boot\", \"safety\"]\n",
        "X = df.drop(['class'], axis=1) # feature matrix [1]\n",
        "y = df['class'] # target variable \n",
        "\n",
        "X_train, X_test, y_train, y_test = train_test_split(X, y, test_size=0.33, random_state=42) # 67% training and 33% test // found out by 1 - test_size = 1 - 0.33 = 0.67 -> 67%\n",
        "X_train.shape, X_test.shape\n",
        "\n",
        "# decision trees like most machine learning algorithms cannot process labeled data values hence the data is encoded as numerical data is easily handled by this algorithm. A stackoverflow question expands on this topic.\n",
        "\n",
        "import category_encoders as ce\n",
        "\n",
        "encoder = ce.OrdinalEncoder(cols=['buying', 'maint', 'doors', 'persons', 'lug_boot', 'safety'])\n",
        "X_train = encoder.fit_transform(X_train)\n",
        "X_test = encoder.transform(X_test)\n",
        "X_train.head()\n",
        "\n",
        "X_test.head()\n",
        "\n",
        "# Create Decision Tree classifier object ; clf refers to classifier\n",
        "clf_gini = DecisionTreeClassifier(criterion = 'gini', max_depth = 3, random_state = 0) \n",
        "clf_gini.fit(X_train, y_train) \n",
        "y_pred_gini = clf_gini.predict(X_test) \n",
        "\n",
        "# determining model accuracy i.e. how often is the classifier correct?\n",
        "print('Model accuracy score with criterion gini index: {0:0.4f}'. format(accuracy_score(y_test, y_pred_gini)))\n",
        "\n",
        "plt.figure(figsize=(12,8))\n",
        "from sklearn import tree\n",
        "tree.plot_tree(clf_gini.fit(X_train, y_train))\n",
        "\n",
        "import graphviz # graphviz takes description of graphs and data and constructs diagrams based off of that information\n",
        "dot_data = tree.export_graphviz(clf_gini, out_file=None, \n",
        "                              feature_names=X_train.columns,  \n",
        "                              class_names=y_train,  \n",
        "                              filled=True, rounded=True,  \n",
        "                              special_characters=True)\n",
        "graph = graphviz.Source(dot_data) \n",
        "graph \n"
      ],
      "execution_count": 84,
      "outputs": [
        {
          "output_type": "stream",
          "name": "stdout",
          "text": [
            "Model accuracy score with criterion gini index: 0.8021\n"
          ]
        },
        {
          "output_type": "execute_result",
          "data": {
            "text/plain": [
              "<graphviz.files.Source at 0x7f79901dba10>"
            ],
            "image/svg+xml": "<?xml version=\"1.0\" encoding=\"UTF-8\" standalone=\"no\"?>\n<!DOCTYPE svg PUBLIC \"-//W3C//DTD SVG 1.1//EN\"\n \"http://www.w3.org/Graphics/SVG/1.1/DTD/svg11.dtd\">\n<!-- Generated by graphviz version 2.40.1 (20161225.0304)\n -->\n<!-- Title: Tree Pages: 1 -->\n<svg width=\"393pt\" height=\"433pt\"\n viewBox=\"0.00 0.00 392.50 433.00\" xmlns=\"http://www.w3.org/2000/svg\" xmlns:xlink=\"http://www.w3.org/1999/xlink\">\n<g id=\"graph0\" class=\"graph\" transform=\"scale(1 1) rotate(0) translate(4 429)\">\n<title>Tree</title>\n<polygon fill=\"#ffffff\" stroke=\"transparent\" points=\"-4,4 -4,-429 388.5,-429 388.5,4 -4,4\"/>\n<!-- 0 -->\n<g id=\"node1\" class=\"node\">\n<title>0</title>\n<path fill=\"#b185ef\" stroke=\"#000000\" d=\"M223,-425C223,-425 91,-425 91,-425 85,-425 79,-419 79,-413 79,-413 79,-354 79,-354 79,-348 85,-342 91,-342 91,-342 223,-342 223,-342 229,-342 235,-348 235,-354 235,-354 235,-413 235,-413 235,-419 229,-425 223,-425\"/>\n<text text-anchor=\"start\" x=\"119.5\" y=\"-409.8\" font-family=\"Helvetica,sans-Serif\" font-size=\"14.00\" fill=\"#000000\">safety ≤ 1.5</text>\n<text text-anchor=\"start\" x=\"119\" y=\"-394.8\" font-family=\"Helvetica,sans-Serif\" font-size=\"14.00\" fill=\"#000000\">gini = 0.452</text>\n<text text-anchor=\"start\" x=\"105\" y=\"-379.8\" font-family=\"Helvetica,sans-Serif\" font-size=\"14.00\" fill=\"#000000\">samples = 1157</text>\n<text text-anchor=\"start\" x=\"87\" y=\"-364.8\" font-family=\"Helvetica,sans-Serif\" font-size=\"14.00\" fill=\"#000000\">value = [255, 89, 813]</text>\n<text text-anchor=\"start\" x=\"112\" y=\"-349.8\" font-family=\"Helvetica,sans-Serif\" font-size=\"14.00\" fill=\"#000000\">class = unacc</text>\n</g>\n<!-- 1 -->\n<g id=\"node2\" class=\"node\">\n<title>1</title>\n<path fill=\"#8139e5\" stroke=\"#000000\" d=\"M129.5,-298.5C129.5,-298.5 22.5,-298.5 22.5,-298.5 16.5,-298.5 10.5,-292.5 10.5,-286.5 10.5,-286.5 10.5,-242.5 10.5,-242.5 10.5,-236.5 16.5,-230.5 22.5,-230.5 22.5,-230.5 129.5,-230.5 129.5,-230.5 135.5,-230.5 141.5,-236.5 141.5,-242.5 141.5,-242.5 141.5,-286.5 141.5,-286.5 141.5,-292.5 135.5,-298.5 129.5,-298.5\"/>\n<text text-anchor=\"start\" x=\"46.5\" y=\"-283.3\" font-family=\"Helvetica,sans-Serif\" font-size=\"14.00\" fill=\"#000000\">gini = 0.0</text>\n<text text-anchor=\"start\" x=\"28\" y=\"-268.3\" font-family=\"Helvetica,sans-Serif\" font-size=\"14.00\" fill=\"#000000\">samples = 386</text>\n<text text-anchor=\"start\" x=\"18.5\" y=\"-253.3\" font-family=\"Helvetica,sans-Serif\" font-size=\"14.00\" fill=\"#000000\">value = [0, 0, 386]</text>\n<text text-anchor=\"start\" x=\"31\" y=\"-238.3\" font-family=\"Helvetica,sans-Serif\" font-size=\"14.00\" fill=\"#000000\">class = unacc</text>\n</g>\n<!-- 0&#45;&gt;1 -->\n<g id=\"edge1\" class=\"edge\">\n<title>0&#45;&gt;1</title>\n<path fill=\"none\" stroke=\"#000000\" d=\"M128.6701,-341.8796C121.0357,-330.6636 112.7652,-318.5131 105.0901,-307.2372\"/>\n<polygon fill=\"#000000\" stroke=\"#000000\" points=\"107.8775,-305.1122 99.3572,-298.8149 102.0908,-309.0511 107.8775,-305.1122\"/>\n<text text-anchor=\"middle\" x=\"94.6907\" y=\"-319.6755\" font-family=\"Helvetica,sans-Serif\" font-size=\"14.00\" fill=\"#000000\">True</text>\n</g>\n<!-- 2 -->\n<g id=\"node3\" class=\"node\">\n<title>2</title>\n<path fill=\"#d5bdf6\" stroke=\"#000000\" d=\"M304,-306C304,-306 172,-306 172,-306 166,-306 160,-300 160,-294 160,-294 160,-235 160,-235 160,-229 166,-223 172,-223 172,-223 304,-223 304,-223 310,-223 316,-229 316,-235 316,-235 316,-294 316,-294 316,-300 310,-306 304,-306\"/>\n<text text-anchor=\"start\" x=\"194\" y=\"-290.8\" font-family=\"Helvetica,sans-Serif\" font-size=\"14.00\" fill=\"#000000\">persons ≤ 2.5</text>\n<text text-anchor=\"start\" x=\"200\" y=\"-275.8\" font-family=\"Helvetica,sans-Serif\" font-size=\"14.00\" fill=\"#000000\">gini = 0.571</text>\n<text text-anchor=\"start\" x=\"190\" y=\"-260.8\" font-family=\"Helvetica,sans-Serif\" font-size=\"14.00\" fill=\"#000000\">samples = 771</text>\n<text text-anchor=\"start\" x=\"168\" y=\"-245.8\" font-family=\"Helvetica,sans-Serif\" font-size=\"14.00\" fill=\"#000000\">value = [255, 89, 427]</text>\n<text text-anchor=\"start\" x=\"193\" y=\"-230.8\" font-family=\"Helvetica,sans-Serif\" font-size=\"14.00\" fill=\"#000000\">class = unacc</text>\n</g>\n<!-- 0&#45;&gt;2 -->\n<g id=\"edge2\" class=\"edge\">\n<title>0&#45;&gt;2</title>\n<path fill=\"none\" stroke=\"#000000\" d=\"M185.3299,-341.8796C191.2763,-333.1434 197.6086,-323.8404 203.745,-314.8253\"/>\n<polygon fill=\"#000000\" stroke=\"#000000\" points=\"206.8156,-316.5342 209.5492,-306.2981 201.0289,-312.5953 206.8156,-316.5342\"/>\n<text text-anchor=\"middle\" x=\"214.2157\" y=\"-327.1587\" font-family=\"Helvetica,sans-Serif\" font-size=\"14.00\" fill=\"#000000\">False</text>\n</g>\n<!-- 3 -->\n<g id=\"node4\" class=\"node\">\n<title>3</title>\n<path fill=\"#f9e4d4\" stroke=\"#000000\" d=\"M223,-187C223,-187 91,-187 91,-187 85,-187 79,-181 79,-175 79,-175 79,-116 79,-116 79,-110 85,-104 91,-104 91,-104 223,-104 223,-104 229,-104 235,-110 235,-116 235,-116 235,-175 235,-175 235,-181 229,-187 223,-187\"/>\n<text text-anchor=\"start\" x=\"117.5\" y=\"-171.8\" font-family=\"Helvetica,sans-Serif\" font-size=\"14.00\" fill=\"#000000\">buying ≤ 2.5</text>\n<text text-anchor=\"start\" x=\"119\" y=\"-156.8\" font-family=\"Helvetica,sans-Serif\" font-size=\"14.00\" fill=\"#000000\">gini = 0.616</text>\n<text text-anchor=\"start\" x=\"109\" y=\"-141.8\" font-family=\"Helvetica,sans-Serif\" font-size=\"14.00\" fill=\"#000000\">samples = 525</text>\n<text text-anchor=\"start\" x=\"87\" y=\"-126.8\" font-family=\"Helvetica,sans-Serif\" font-size=\"14.00\" fill=\"#000000\">value = [255, 89, 181]</text>\n<text text-anchor=\"start\" x=\"112\" y=\"-111.8\" font-family=\"Helvetica,sans-Serif\" font-size=\"14.00\" fill=\"#000000\">class = unacc</text>\n</g>\n<!-- 2&#45;&gt;3 -->\n<g id=\"edge3\" class=\"edge\">\n<title>2&#45;&gt;3</title>\n<path fill=\"none\" stroke=\"#000000\" d=\"M209.6701,-222.8796C203.7237,-214.1434 197.3914,-204.8404 191.255,-195.8253\"/>\n<polygon fill=\"#000000\" stroke=\"#000000\" points=\"193.9711,-193.5953 185.4508,-187.2981 188.1844,-197.5342 193.9711,-193.5953\"/>\n</g>\n<!-- 6 -->\n<g id=\"node7\" class=\"node\">\n<title>6</title>\n<path fill=\"#8139e5\" stroke=\"#000000\" d=\"M372.5,-179.5C372.5,-179.5 265.5,-179.5 265.5,-179.5 259.5,-179.5 253.5,-173.5 253.5,-167.5 253.5,-167.5 253.5,-123.5 253.5,-123.5 253.5,-117.5 259.5,-111.5 265.5,-111.5 265.5,-111.5 372.5,-111.5 372.5,-111.5 378.5,-111.5 384.5,-117.5 384.5,-123.5 384.5,-123.5 384.5,-167.5 384.5,-167.5 384.5,-173.5 378.5,-179.5 372.5,-179.5\"/>\n<text text-anchor=\"start\" x=\"289.5\" y=\"-164.3\" font-family=\"Helvetica,sans-Serif\" font-size=\"14.00\" fill=\"#000000\">gini = 0.0</text>\n<text text-anchor=\"start\" x=\"271\" y=\"-149.3\" font-family=\"Helvetica,sans-Serif\" font-size=\"14.00\" fill=\"#000000\">samples = 246</text>\n<text text-anchor=\"start\" x=\"261.5\" y=\"-134.3\" font-family=\"Helvetica,sans-Serif\" font-size=\"14.00\" fill=\"#000000\">value = [0, 0, 246]</text>\n<text text-anchor=\"start\" x=\"274\" y=\"-119.3\" font-family=\"Helvetica,sans-Serif\" font-size=\"14.00\" fill=\"#000000\">class = unacc</text>\n</g>\n<!-- 2&#45;&gt;6 -->\n<g id=\"edge6\" class=\"edge\">\n<title>2&#45;&gt;6</title>\n<path fill=\"none\" stroke=\"#000000\" d=\"M266.3299,-222.8796C273.9643,-211.6636 282.2348,-199.5131 289.9099,-188.2372\"/>\n<polygon fill=\"#000000\" stroke=\"#000000\" points=\"292.9092,-190.0511 295.6428,-179.8149 287.1225,-186.1122 292.9092,-190.0511\"/>\n</g>\n<!-- 4 -->\n<g id=\"node5\" class=\"node\">\n<title>4</title>\n<path fill=\"#ebe0fb\" stroke=\"#000000\" d=\"M136,-68C136,-68 12,-68 12,-68 6,-68 0,-62 0,-56 0,-56 0,-12 0,-12 0,-6 6,0 12,0 12,0 136,0 136,0 142,0 148,-6 148,-12 148,-12 148,-56 148,-56 148,-62 142,-68 136,-68\"/>\n<text text-anchor=\"start\" x=\"36\" y=\"-52.8\" font-family=\"Helvetica,sans-Serif\" font-size=\"14.00\" fill=\"#000000\">gini = 0.496</text>\n<text text-anchor=\"start\" x=\"26\" y=\"-37.8\" font-family=\"Helvetica,sans-Serif\" font-size=\"14.00\" fill=\"#000000\">samples = 271</text>\n<text text-anchor=\"start\" x=\"8\" y=\"-22.8\" font-family=\"Helvetica,sans-Serif\" font-size=\"14.00\" fill=\"#000000\">value = [124, 0, 147]</text>\n<text text-anchor=\"start\" x=\"29\" y=\"-7.8\" font-family=\"Helvetica,sans-Serif\" font-size=\"14.00\" fill=\"#000000\">class = unacc</text>\n</g>\n<!-- 3&#45;&gt;4 -->\n<g id=\"edge4\" class=\"edge\">\n<title>3&#45;&gt;4</title>\n<path fill=\"none\" stroke=\"#000000\" d=\"M126.0939,-103.9815C119.3892,-94.9747 112.2892,-85.4367 105.5597,-76.3965\"/>\n<polygon fill=\"#000000\" stroke=\"#000000\" points=\"108.2845,-74.1953 99.5057,-68.2637 102.6694,-78.3752 108.2845,-74.1953\"/>\n</g>\n<!-- 5 -->\n<g id=\"node6\" class=\"node\">\n<title>5</title>\n<path fill=\"#f8dfcd\" stroke=\"#000000\" d=\"M302,-68C302,-68 178,-68 178,-68 172,-68 166,-62 166,-56 166,-56 166,-12 166,-12 166,-6 172,0 178,0 178,0 302,0 302,0 308,0 314,-6 314,-12 314,-12 314,-56 314,-56 314,-62 308,-68 302,-68\"/>\n<text text-anchor=\"start\" x=\"202\" y=\"-52.8\" font-family=\"Helvetica,sans-Serif\" font-size=\"14.00\" fill=\"#000000\">gini = 0.593</text>\n<text text-anchor=\"start\" x=\"192\" y=\"-37.8\" font-family=\"Helvetica,sans-Serif\" font-size=\"14.00\" fill=\"#000000\">samples = 254</text>\n<text text-anchor=\"start\" x=\"174\" y=\"-22.8\" font-family=\"Helvetica,sans-Serif\" font-size=\"14.00\" fill=\"#000000\">value = [131, 89, 34]</text>\n<text text-anchor=\"start\" x=\"195\" y=\"-7.8\" font-family=\"Helvetica,sans-Serif\" font-size=\"14.00\" fill=\"#000000\">class = unacc</text>\n</g>\n<!-- 3&#45;&gt;5 -->\n<g id=\"edge5\" class=\"edge\">\n<title>3&#45;&gt;5</title>\n<path fill=\"none\" stroke=\"#000000\" d=\"M187.9061,-103.9815C194.6108,-94.9747 201.7108,-85.4367 208.4403,-76.3965\"/>\n<polygon fill=\"#000000\" stroke=\"#000000\" points=\"211.3306,-78.3752 214.4943,-68.2637 205.7155,-74.1953 211.3306,-78.3752\"/>\n</g>\n</g>\n</svg>\n"
          },
          "metadata": {},
          "execution_count": 84
        },
        {
          "output_type": "display_data",
          "data": {
            "image/png": "[encoded data removed]",
            "text/plain": [
              "<Figure size 864x576 with 1 Axes>"
            ]
          },
          "metadata": {
            "needs_background": "light"
          }
        }
      ]
    },
    {
      "cell_type": "code",
      "metadata": {
        "id": "4jsJJJEwcMVx"
      },
      "source": [
        ""
      ],
      "execution_count": null,
      "outputs": []
    }
  ]
}